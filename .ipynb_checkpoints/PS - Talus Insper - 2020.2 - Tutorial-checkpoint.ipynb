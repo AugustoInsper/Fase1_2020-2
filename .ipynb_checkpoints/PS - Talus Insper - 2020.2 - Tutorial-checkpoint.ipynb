{
 "cells": [
  {
   "cell_type": "markdown",
   "metadata": {},
   "source": [
    "# O QUE VAI SER FEITO NESSE NOTEBOOK\n",
    "<br>\n",
    "\n",
    "- Tutorial simples de Jupyter\n",
    "    - Escolher o kernel\n",
    "    - Inserir, excluir e fazer split de célula\n",
    "    - Rodar células\n",
    "    - Tipos de célula\n",
    "- ~Tipos de variáveis~\n",
    "    - ~Ensinar função type~\n",
    "    - ~Ensinar como converter entre tipos de variáveis~\n",
    "    - ~Atribuir valores~\n",
    "- ~Operações básicas~\n",
    "    - ~Soma~\n",
    "    - ~Subtração~\n",
    "    - ~Multiplicação~\n",
    "    - ~Divisão~\n",
    "    - ~Exponenciação~\n",
    "    - ~Módulo~\n",
    "    - ~Arrendodamento~\n",
    "    - ~Valor absoluto~\n",
    "    - ~Comparação~\n",
    "- ~Operações com strings~\n",
    "    - ~Concatenação~\n",
    "    - ~Manipulação~\n",
    "    - ~Funções básicas~\n",
    "- Estruturas básicas\n",
    "    - Listas\n",
    "    - Dicionários\n",
    "    - Operações com estas estruturas\n",
    "- Condicionais\n",
    "    - If\n",
    "    - Else\n",
    "    - Elif\n",
    "- Estruturas de repetição\n",
    "    - While\n",
    "    - For\n",
    "    - Range\n",
    "- Funções\n",
    "    - Criar funções\n",
    "    - Documentar funções\n",
    "- Arquivos\n",
    "    - Ler\n",
    "    - Escrever\n",
    "- Importar módulos\n",
    "- Programação Orientada a Objetos (POO)\n",
    "    - Classes\n",
    "    - Objetos\n",
    "    - Métodos\n",
    "    - Herança\n",
    "- Stack básica de PyData\n",
    "    - Numpy\n",
    "    - Pandas\n",
    "    - Matplotlib/Seaborn"
   ]
  },
  {
   "cell_type": "markdown",
   "metadata": {},
   "source": [
    "## Variáveis e tipos de variáveis"
   ]
  },
  {
   "cell_type": "markdown",
   "metadata": {},
   "source": [
    "Diferente de outras linguagens de programação tradicionais, em Python você não precisa declarar o tipo de uma variável. Você pode declarar variáveis simplesmente atribuindo um valor a elas e também pode mudar a qualquer momento:"
   ]
  },
  {
   "cell_type": "code",
   "execution_count": 1,
   "metadata": {},
   "outputs": [
    {
     "name": "stdout",
     "output_type": "stream",
     "text": [
      "-1 é uma variável do tipo <class 'int'>\n"
     ]
    }
   ],
   "source": [
    "# a função usada para verificar o tipo de uma variável é a função type()\n",
    "print('{0} é uma variável do tipo {1}'.format(-1,type(-1)))"
   ]
  },
  {
   "cell_type": "code",
   "execution_count": 2,
   "metadata": {},
   "outputs": [
    {
     "data": {
      "text/plain": [
       "int"
      ]
     },
     "execution_count": 2,
     "metadata": {},
     "output_type": "execute_result"
    }
   ],
   "source": [
    "# você pode simplesmente invocar a função e passar o argumento que ao executar a célula terá como output o tipo\n",
    "type(-1)"
   ]
  },
  {
   "cell_type": "markdown",
   "metadata": {},
   "source": [
    "Alguns outros tipos de variáveis comuns em python são:"
   ]
  },
  {
   "cell_type": "code",
   "execution_count": 3,
   "metadata": {},
   "outputs": [
    {
     "name": "stdout",
     "output_type": "stream",
     "text": [
      "2 é uma variável do tipo <class 'int'>\n"
     ]
    }
   ],
   "source": [
    "# inteiros (e.g. 0, -1, 2)\n",
    "print('{0} é uma variável do tipo {1}'.format(2,type(2)))"
   ]
  },
  {
   "cell_type": "code",
   "execution_count": 4,
   "metadata": {},
   "outputs": [
    {
     "name": "stdout",
     "output_type": "stream",
     "text": [
      "2.0 e 3.14 são variáveis do tipo <class 'float'>\n"
     ]
    }
   ],
   "source": [
    "# float/números reais/pontos flutuantes (e.g. 1.0, 3.14, -2.71)\n",
    "print('{0} e {1} são variáveis do tipo {2}'.format(2.0,3.14,type(2.0)))"
   ]
  },
  {
   "cell_type": "code",
   "execution_count": 5,
   "metadata": {},
   "outputs": [
    {
     "name": "stdout",
     "output_type": "stream",
     "text": [
      "(3+4j) é uma variável do tipo <class 'complex'>\n"
     ]
    }
   ],
   "source": [
    "# complex/números complexos (e.g. 3 + 4j, -1j)\n",
    "# atente que, ao contrário da literatura clássica, aqui a raiz complexa é j\n",
    "print('{0} é uma variável do tipo {1}'.format(3+4j,type(3+4j)))"
   ]
  },
  {
   "cell_type": "code",
   "execution_count": 6,
   "metadata": {},
   "outputs": [
    {
     "name": "stdout",
     "output_type": "stream",
     "text": [
      "Uma string é uma variável do tipo <class 'str'>\n"
     ]
    }
   ],
   "source": [
    "# string/caracteres/texto (e.g. 'isso eh uma string', 'a', 'string')\n",
    "print(\"{0} é uma variável do tipo {1}\".format('Uma string',type('Uma string')))"
   ]
  },
  {
   "cell_type": "code",
   "execution_count": 7,
   "metadata": {},
   "outputs": [
    {
     "ename": "NameError",
     "evalue": "name 'string' is not defined",
     "output_type": "error",
     "traceback": [
      "\u001b[0;31m---------------------------------------------------------------------------\u001b[0m",
      "\u001b[0;31mNameError\u001b[0m                                 Traceback (most recent call last)",
      "\u001b[0;32m<ipython-input-7-269b3189e5a6>\u001b[0m in \u001b[0;36m<module>\u001b[0;34m\u001b[0m\n\u001b[1;32m      2\u001b[0m \u001b[0;31m# do contrário será interpretado como uma variável sem valor\u001b[0m\u001b[0;34m\u001b[0m\u001b[0;34m\u001b[0m\u001b[0;34m\u001b[0m\u001b[0m\n\u001b[1;32m      3\u001b[0m \u001b[0;31m# rode a célula abaixo para verificar o erro que será obtido se esquecer as aspas\u001b[0m\u001b[0;34m\u001b[0m\u001b[0;34m\u001b[0m\u001b[0;34m\u001b[0m\u001b[0m\n\u001b[0;32m----> 4\u001b[0;31m \u001b[0mtype\u001b[0m\u001b[0;34m(\u001b[0m\u001b[0mstring\u001b[0m\u001b[0;34m)\u001b[0m\u001b[0;34m\u001b[0m\u001b[0;34m\u001b[0m\u001b[0m\n\u001b[0m",
      "\u001b[0;31mNameError\u001b[0m: name 'string' is not defined"
     ]
    }
   ],
   "source": [
    "# OBS.: strings devem estar entre aspas (\"\") ou aspas simples ('')\n",
    "# do contrário será interpretado como uma variável sem valor\n",
    "# rode a célula abaixo para verificar o erro que será obtido se esquecer as aspas\n",
    "type(string)"
   ]
  },
  {
   "cell_type": "code",
   "execution_count": 8,
   "metadata": {},
   "outputs": [
    {
     "name": "stdout",
     "output_type": "stream",
     "text": [
      "True é uma variável do tipo <class 'bool'>\n"
     ]
    }
   ],
   "source": [
    "# booleano (e.g. True ou False)\n",
    "print('{0} é uma variável do tipo {1}'.format(True,type(True)))\n",
    "# perceba que True e False não precisam de aspas, no entanto a primeira letra deve ser maiúscula\n",
    "# nunca nomeie variáveis com esse nome, é uma boa prática de programação!"
   ]
  },
  {
   "cell_type": "code",
   "execution_count": 9,
   "metadata": {},
   "outputs": [
    {
     "name": "stdout",
     "output_type": "stream",
     "text": [
      "None é uma variável do tipo <class 'NoneType'>\n"
     ]
    }
   ],
   "source": [
    "# None/vazio/sem valor\n",
    "print('{0} é uma variável do tipo {1}'.format(None,type(None)))"
   ]
  },
  {
   "cell_type": "markdown",
   "metadata": {},
   "source": [
    "Pode ser útil comparar o tipo de variáveis e até mesmo converter o tipo da variável para outro. Verifique como fazer isso:"
   ]
  },
  {
   "cell_type": "code",
   "execution_count": 12,
   "metadata": {},
   "outputs": [
    {
     "name": "stdout",
     "output_type": "stream",
     "text": [
      "isinstance(\"Uma string\",str) = True\n",
      "isinstance(-1,float) = False\n"
     ]
    }
   ],
   "source": [
    "# para comparar o tipo de uma variável, usamos a função isinstance()\n",
    "# ela retorna um booleano com o resultado da comparação\n",
    "print('isinstance(\"Uma string\",str) = {0}'.format(isinstance('Uma string',str)))\n",
    "print('isinstance(-1,float) = {0}'.format(isinstance(-1,float)))"
   ]
  },
  {
   "cell_type": "code",
   "execution_count": 14,
   "metadata": {},
   "outputs": [
    {
     "data": {
      "text/plain": [
       "str"
      ]
     },
     "execution_count": 14,
     "metadata": {},
     "output_type": "execute_result"
    }
   ],
   "source": [
    "# para converter o tipo da variável, basta passar esta por uma função específica de cada variável\n",
    "string_para_converter = '-1'\n",
    "type(string_para_converter)"
   ]
  },
  {
   "cell_type": "code",
   "execution_count": 15,
   "metadata": {},
   "outputs": [
    {
     "data": {
      "text/plain": [
       "float"
      ]
     },
     "execution_count": 15,
     "metadata": {},
     "output_type": "execute_result"
    }
   ],
   "source": [
    "string_convertida = float(string_para_converter)\n",
    "type(string_convertida)"
   ]
  },
  {
   "cell_type": "markdown",
   "metadata": {},
   "source": [
    "Diferentemente de outras linguagens tradicionais, não é preciso declarar o tipo de uma variável quando esta é declarada. O que permite substituir e converter variáveis muito mais fácil, como visto nas células acima"
   ]
  },
  {
   "cell_type": "code",
   "execution_count": 16,
   "metadata": {},
   "outputs": [
    {
     "name": "stdout",
     "output_type": "stream",
     "text": [
      "1 do tipo <class 'int'>\n",
      "1.0 do tipo <class 'float'>\n",
      "string do tipo <class 'str'>\n"
     ]
    }
   ],
   "source": [
    "# a maneira correta de declarar uma variável é variavel = valor\n",
    "# nunca use valor = variavel\n",
    "var = 1\n",
    "print('{0} do tipo {1}'.format(var,type(var)))\n",
    "var = float(var)\n",
    "print('{0} do tipo {1}'.format(var,type(var)))\n",
    "var = 'string'\n",
    "print('{0} do tipo {1}'.format(var,type(var)))\n",
    "\n",
    "# a mesma variável com valores e tipos diferentes!"
   ]
  },
  {
   "cell_type": "code",
   "execution_count": 95,
   "metadata": {},
   "outputs": [
    {
     "name": "stdout",
     "output_type": "stream",
     "text": [
      "2 3\n"
     ]
    }
   ],
   "source": [
    "# lembre-se que Python é uma linguagem case sensity\n",
    "# isso significa que letras maiusculas e minusculas no corpo de uma variável são diferentes\n",
    "var = 2\n",
    "Var = 3\n",
    "print(var, Var)"
   ]
  },
  {
   "cell_type": "markdown",
   "metadata": {},
   "source": [
    "## Operações básicas"
   ]
  },
  {
   "cell_type": "markdown",
   "metadata": {},
   "source": [
    "É importante ainda saber realizar operações com variáveis em Python. Veja algumas das operações principais:"
   ]
  },
  {
   "cell_type": "code",
   "execution_count": 17,
   "metadata": {},
   "outputs": [
    {
     "data": {
      "text/plain": [
       "5"
      ]
     },
     "execution_count": 17,
     "metadata": {},
     "output_type": "execute_result"
    }
   ],
   "source": [
    "# soma\n",
    "a = 2\n",
    "b = 3\n",
    "c = a + b\n",
    "c"
   ]
  },
  {
   "cell_type": "code",
   "execution_count": 18,
   "metadata": {},
   "outputs": [
    {
     "data": {
      "text/plain": [
       "5"
      ]
     },
     "execution_count": 18,
     "metadata": {},
     "output_type": "execute_result"
    }
   ],
   "source": [
    "# você ainda pode fazer isso diretamente, sem atribuir a um novo valor\n",
    "a + b"
   ]
  },
  {
   "cell_type": "code",
   "execution_count": 19,
   "metadata": {},
   "outputs": [
    {
     "data": {
      "text/plain": [
       "8.14"
      ]
     },
     "execution_count": 19,
     "metadata": {},
     "output_type": "execute_result"
    }
   ],
   "source": [
    "# é possível ainda realizar operações com ints e floats\n",
    "c + 3.14"
   ]
  },
  {
   "cell_type": "code",
   "execution_count": 20,
   "metadata": {},
   "outputs": [
    {
     "ename": "TypeError",
     "evalue": "unsupported operand type(s) for +: 'int' and 'str'",
     "output_type": "error",
     "traceback": [
      "\u001b[0;31m---------------------------------------------------------------------------\u001b[0m",
      "\u001b[0;31mTypeError\u001b[0m                                 Traceback (most recent call last)",
      "\u001b[0;32m<ipython-input-20-b5d537b60e73>\u001b[0m in \u001b[0;36m<module>\u001b[0;34m\u001b[0m\n\u001b[1;32m      1\u001b[0m \u001b[0;31m# não é possível somar números com variáveis não numéricas\u001b[0m\u001b[0;34m\u001b[0m\u001b[0;34m\u001b[0m\u001b[0;34m\u001b[0m\u001b[0m\n\u001b[0;32m----> 2\u001b[0;31m \u001b[0;36m5\u001b[0m \u001b[0;34m+\u001b[0m \u001b[0;34m'string'\u001b[0m\u001b[0;34m\u001b[0m\u001b[0;34m\u001b[0m\u001b[0m\n\u001b[0m",
      "\u001b[0;31mTypeError\u001b[0m: unsupported operand type(s) for +: 'int' and 'str'"
     ]
    }
   ],
   "source": [
    "# não é possível somar números com variáveis não numéricas\n",
    "5 + 'string'"
   ]
  },
  {
   "cell_type": "code",
   "execution_count": 21,
   "metadata": {},
   "outputs": [
    {
     "data": {
      "text/plain": [
       "'Eu vou passar no case da Talus'"
      ]
     },
     "execution_count": 21,
     "metadata": {},
     "output_type": "execute_result"
    }
   ],
   "source": [
    "# entretanto é possível somar strings\n",
    "# a essa operação damos o nome de 'concatenação'\n",
    "str1 = 'Eu vou passar'\n",
    "str2 = 'no case da Talus'\n",
    "str_res = str1 + ' ' + str2\n",
    "str_res"
   ]
  },
  {
   "cell_type": "code",
   "execution_count": 22,
   "metadata": {},
   "outputs": [
    {
     "data": {
      "text/plain": [
       "2.5"
      ]
     },
     "execution_count": 22,
     "metadata": {},
     "output_type": "execute_result"
    }
   ],
   "source": [
    "# subtração\n",
    "a = 5\n",
    "b = 2.5\n",
    "a - b"
   ]
  },
  {
   "cell_type": "code",
   "execution_count": 23,
   "metadata": {},
   "outputs": [
    {
     "ename": "TypeError",
     "evalue": "unsupported operand type(s) for -: 'str' and 'str'",
     "output_type": "error",
     "traceback": [
      "\u001b[0;31m---------------------------------------------------------------------------\u001b[0m",
      "\u001b[0;31mTypeError\u001b[0m                                 Traceback (most recent call last)",
      "\u001b[0;32m<ipython-input-23-1302e6371b1a>\u001b[0m in \u001b[0;36m<module>\u001b[0;34m\u001b[0m\n\u001b[1;32m      2\u001b[0m \u001b[0mstr1\u001b[0m \u001b[0;34m=\u001b[0m \u001b[0;34m'Eu vou passar no case da Talus'\u001b[0m\u001b[0;34m\u001b[0m\u001b[0;34m\u001b[0m\u001b[0m\n\u001b[1;32m      3\u001b[0m \u001b[0mstr2\u001b[0m \u001b[0;34m=\u001b[0m \u001b[0;34m'Talus'\u001b[0m\u001b[0;34m\u001b[0m\u001b[0;34m\u001b[0m\u001b[0m\n\u001b[0;32m----> 4\u001b[0;31m \u001b[0mstr1\u001b[0m \u001b[0;34m-\u001b[0m \u001b[0mstr2\u001b[0m\u001b[0;34m\u001b[0m\u001b[0;34m\u001b[0m\u001b[0m\n\u001b[0m",
      "\u001b[0;31mTypeError\u001b[0m: unsupported operand type(s) for -: 'str' and 'str'"
     ]
    }
   ],
   "source": [
    "# não é possível realizar o mesmo com strings novamente\n",
    "str1 = 'Eu vou passar no case da Talus'\n",
    "str2 = 'Talus'\n",
    "str1 - str2"
   ]
  },
  {
   "cell_type": "code",
   "execution_count": 24,
   "metadata": {},
   "outputs": [
    {
     "data": {
      "text/plain": [
       "-6.28"
      ]
     },
     "execution_count": 24,
     "metadata": {},
     "output_type": "execute_result"
    }
   ],
   "source": [
    "# multiplicação\n",
    "a = 3.14\n",
    "b = -2\n",
    "a*b"
   ]
  },
  {
   "cell_type": "code",
   "execution_count": 26,
   "metadata": {},
   "outputs": [
    {
     "data": {
      "text/plain": [
       "'*****'"
      ]
     },
     "execution_count": 26,
     "metadata": {},
     "output_type": "execute_result"
    }
   ],
   "source": [
    "# dessa vez é possível usar essa operação com strings\n",
    "str1 = '*'\n",
    "str1*5"
   ]
  },
  {
   "cell_type": "code",
   "execution_count": 32,
   "metadata": {},
   "outputs": [
    {
     "data": {
      "text/plain": [
       "2.5"
      ]
     },
     "execution_count": 32,
     "metadata": {},
     "output_type": "execute_result"
    }
   ],
   "source": [
    "# divisão\n",
    "a = 5\n",
    "b = 2\n",
    "a/b"
   ]
  },
  {
   "cell_type": "code",
   "execution_count": 33,
   "metadata": {},
   "outputs": [
    {
     "data": {
      "text/plain": [
       "2"
      ]
     },
     "execution_count": 33,
     "metadata": {},
     "output_type": "execute_result"
    }
   ],
   "source": [
    "# se usarmos duas barras inclinadas conseguiremos apenas a parte inteira da divisão\n",
    "a//b"
   ]
  },
  {
   "cell_type": "code",
   "execution_count": 34,
   "metadata": {},
   "outputs": [
    {
     "ename": "ZeroDivisionError",
     "evalue": "float division by zero",
     "output_type": "error",
     "traceback": [
      "\u001b[0;31m---------------------------------------------------------------------------\u001b[0m",
      "\u001b[0;31mZeroDivisionError\u001b[0m                         Traceback (most recent call last)",
      "\u001b[0;32m<ipython-input-34-f011e9287f96>\u001b[0m in \u001b[0;36m<module>\u001b[0;34m\u001b[0m\n\u001b[1;32m      1\u001b[0m \u001b[0;31m# cuidado ao dividir por zero!\u001b[0m\u001b[0;34m\u001b[0m\u001b[0;34m\u001b[0m\u001b[0;34m\u001b[0m\u001b[0m\n\u001b[1;32m      2\u001b[0m \u001b[0;31m# veja o erro que você obteria\u001b[0m\u001b[0;34m\u001b[0m\u001b[0;34m\u001b[0m\u001b[0;34m\u001b[0m\u001b[0m\n\u001b[0;32m----> 3\u001b[0;31m \u001b[0;36m3.14\u001b[0m\u001b[0;34m/\u001b[0m\u001b[0;36m0\u001b[0m\u001b[0;34m\u001b[0m\u001b[0;34m\u001b[0m\u001b[0m\n\u001b[0m",
      "\u001b[0;31mZeroDivisionError\u001b[0m: float division by zero"
     ]
    }
   ],
   "source": [
    "# cuidado ao dividir por zero!\n",
    "# veja o erro que você obteria\n",
    "3.14/0"
   ]
  },
  {
   "cell_type": "code",
   "execution_count": 35,
   "metadata": {},
   "outputs": [
    {
     "data": {
      "text/plain": [
       "16"
      ]
     },
     "execution_count": 35,
     "metadata": {},
     "output_type": "execute_result"
    }
   ],
   "source": [
    "# exponenciação\n",
    "# a operação de exponenciação é realizada usando dois asteriscos de multiplicação\n",
    "a = 4\n",
    "a**2"
   ]
  },
  {
   "cell_type": "code",
   "execution_count": 38,
   "metadata": {},
   "outputs": [
    {
     "data": {
      "text/plain": [
       "4.0"
      ]
     },
     "execution_count": 38,
     "metadata": {},
     "output_type": "execute_result"
    }
   ],
   "source": [
    "# também é possível realizar a operação utilizando a função pow()\n",
    "pow(16,0.5)\n",
    "# note que o resultado da radiação é um float e não um inteiro"
   ]
  },
  {
   "cell_type": "code",
   "execution_count": 39,
   "metadata": {},
   "outputs": [
    {
     "data": {
      "text/plain": [
       "1"
      ]
     },
     "execution_count": 39,
     "metadata": {},
     "output_type": "execute_result"
    }
   ],
   "source": [
    "# módulo\n",
    "# o operador módulo representada por '%' devolve o resto da divisão entre dois números\n",
    "5%2"
   ]
  },
  {
   "cell_type": "code",
   "execution_count": 40,
   "metadata": {},
   "outputs": [
    {
     "name": "stdout",
     "output_type": "stream",
     "text": [
      "O número completo é 3.14159265359\n",
      "O número arredondado para duas casas decimais é 3.14\n"
     ]
    }
   ],
   "source": [
    "# arredondamento\n",
    "# é possível arredondar números usando a função round\n",
    "pi = 3.14159265359\n",
    "print('O número completo é {0}\\nO número arredondado para duas casas decimais é {1}'.format(pi, round(pi,2)))"
   ]
  },
  {
   "cell_type": "code",
   "execution_count": 41,
   "metadata": {},
   "outputs": [
    {
     "data": {
      "text/plain": [
       "2.71"
      ]
     },
     "execution_count": 41,
     "metadata": {},
     "output_type": "execute_result"
    }
   ],
   "source": [
    "# valor absoluto\n",
    "# a função abs() retorna o valor absoluto de um número\n",
    "abs(-2.71)"
   ]
  },
  {
   "cell_type": "code",
   "execution_count": 42,
   "metadata": {},
   "outputs": [
    {
     "data": {
      "text/plain": [
       "5.0"
      ]
     },
     "execution_count": 42,
     "metadata": {},
     "output_type": "execute_result"
    }
   ],
   "source": [
    "# serve inclusive para números complexos\n",
    "# seja um número complexo z = a + bj -> abs(z) = raiz(a² + b²)\n",
    "z = 3 + 4j\n",
    "abs(z)"
   ]
  },
  {
   "cell_type": "code",
   "execution_count": 50,
   "metadata": {},
   "outputs": [
    {
     "name": "stdout",
     "output_type": "stream",
     "text": [
      "A parte real de (3+4j) é 3.0 e a parte imaginária é 4.0\n"
     ]
    }
   ],
   "source": [
    "# ainda sobre números complexos\n",
    "# é possível obter a parte real e imaginária de um número complexo\n",
    "# basta usar os atribulos .real e .imag\n",
    "print('A parte real de {0} é {1} e a parte imaginária é {2}'.format(z, z.real, z.imag))\n",
    "\n",
    "# não se preocupe agora com o significado de atributo\n",
    "# você também verá isso"
   ]
  },
  {
   "cell_type": "code",
   "execution_count": 91,
   "metadata": {},
   "outputs": [
    {
     "data": {
      "text/plain": [
       "False"
      ]
     },
     "execution_count": 91,
     "metadata": {},
     "output_type": "execute_result"
    }
   ],
   "source": [
    "# comparação\n",
    "# esse conjunto de operações retorna um valor booleano que verifica a veracidade do que foi dito\n",
    "a = 2\n",
    "b = 3.14\n",
    "a == b"
   ]
  },
  {
   "cell_type": "code",
   "execution_count": 92,
   "metadata": {},
   "outputs": [
    {
     "data": {
      "text/plain": [
       "True"
      ]
     },
     "execution_count": 92,
     "metadata": {},
     "output_type": "execute_result"
    }
   ],
   "source": [
    "# perceba que a comparação é feita utilizando dois símbolos de igualdade\n",
    "# um único símbolo tem valor de atribuição, duplo símbolos têm valor de comparação\n",
    "# da mesma forma, é possível verificar a desigualdade, nesse caso usamos como sinal '!='\n",
    "a != b"
   ]
  },
  {
   "cell_type": "code",
   "execution_count": 93,
   "metadata": {},
   "outputs": [
    {
     "data": {
      "text/plain": [
       "True"
      ]
     },
     "execution_count": 93,
     "metadata": {},
     "output_type": "execute_result"
    }
   ],
   "source": [
    "# você pode usar ainda símbolos como >, <, >= (maior que ou igual), <= (menor que ou igual)\n",
    "a <= b"
   ]
  },
  {
   "cell_type": "markdown",
   "metadata": {},
   "source": [
    "## Manipulação de strings"
   ]
  },
  {
   "cell_type": "markdown",
   "metadata": {},
   "source": [
    "Como vimos, existem algumas operações de números são aplicáveis a strings. Nessa parte, vamos ver algumas operações desse tipo de variável"
   ]
  },
  {
   "cell_type": "code",
   "execution_count": 53,
   "metadata": {},
   "outputs": [
    {
     "name": "stdout",
     "output_type": "stream",
     "text": [
      "\"Make it work, make it right, make it fast.\"\n",
      "-Kent Beck\n"
     ]
    }
   ],
   "source": [
    "# se quiser acrescentar cotações ou marcações com aspas em uma string\n",
    "# é preciso mesclar entre aspas simples e aspas duplas\n",
    "string = '\"Make it work, make it right, make it fast.\"\\n-Kent Beck'\n",
    "print(string)"
   ]
  },
  {
   "cell_type": "code",
   "execution_count": 67,
   "metadata": {},
   "outputs": [
    {
     "name": "stdout",
     "output_type": "stream",
     "text": [
      "exemplo de\ttabeamento\n"
     ]
    }
   ],
   "source": [
    "# perceba que usamos uma estrutura peculiar na string anterior: um '\\n'\n",
    "# essas estruturas nos permitem adicionar elementos de espaçamento a uma string\n",
    "# como quebra de linha ou tabeamento (nesse caso seria \\t)\n",
    "string = 'exemplo de\\ttabeamento'\n",
    "print(string)"
   ]
  },
  {
   "cell_type": "code",
   "execution_count": 68,
   "metadata": {},
   "outputs": [
    {
     "data": {
      "text/plain": [
       "'exemplo de\\ttabeamento'"
      ]
     },
     "execution_count": 68,
     "metadata": {},
     "output_type": "execute_result"
    }
   ],
   "source": [
    "# nesse caso, perceba que simplesmente convocar a string e executar a célula\n",
    "# não ocuta a estrutura de espaçamento\n",
    "string"
   ]
  },
  {
   "cell_type": "code",
   "execution_count": 71,
   "metadata": {},
   "outputs": [
    {
     "data": {
      "text/plain": [
       "'u'"
      ]
     },
     "execution_count": 71,
     "metadata": {},
     "output_type": "execute_result"
    }
   ],
   "source": [
    "# é possível convocar caracteres ou grupos de caracteres de uma string\n",
    "# para isso, passamos, entre colchetes, o index do caracter\n",
    "# lembre-se que em Python a indexação inicia-se em 0\n",
    "# então em 'Talus Insper' o elemento 0 é o 'T' e o elemento 1 é o 'a'\n",
    "string = 'Talus Insper'\n",
    "string[3]"
   ]
  },
  {
   "cell_type": "code",
   "execution_count": 72,
   "metadata": {},
   "outputs": [
    {
     "data": {
      "text/plain": [
       "'Talu'"
      ]
     },
     "execution_count": 72,
     "metadata": {},
     "output_type": "execute_result"
    }
   ],
   "source": [
    "# você pode passar ainda uma range de valores\n",
    "# atente que em Python a range de 0 a n invocaria os n primeiros elementos, portanto de 0 a n-1\n",
    "string[0:4]"
   ]
  },
  {
   "cell_type": "code",
   "execution_count": 73,
   "metadata": {},
   "outputs": [
    {
     "data": {
      "text/plain": [
       "'Tl'"
      ]
     },
     "execution_count": 73,
     "metadata": {},
     "output_type": "execute_result"
    }
   ],
   "source": [
    "# perceba que o último caracter apresentado é o 'u' que tem index 3\n",
    "# é possível ainda regular o tamanho do passo\n",
    "string[0:4:2]"
   ]
  },
  {
   "cell_type": "code",
   "execution_count": 74,
   "metadata": {},
   "outputs": [
    {
     "data": {
      "text/plain": [
       "'repsnI sulaT'"
      ]
     },
     "execution_count": 74,
     "metadata": {},
     "output_type": "execute_result"
    }
   ],
   "source": [
    "# nessa célula, nós pedimos dos elementos 0 a 3 pulando de dois em dois elementos\n",
    "# a sintaxe então seria [index_start:index_stop+1:step]\n",
    "# uma curiosidade é que números negativos também são possível\n",
    "string[::-1]"
   ]
  },
  {
   "cell_type": "code",
   "execution_count": 75,
   "metadata": {},
   "outputs": [
    {
     "data": {
      "text/plain": [
       "'Talus Ins'"
      ]
     },
     "execution_count": 75,
     "metadata": {},
     "output_type": "execute_result"
    }
   ],
   "source": [
    "# nesse caso foi printado do elemento final até o inicial, já que o step é negativo\n",
    "# e portanto está voltando\n",
    "# você pode ainda controlar o elemento final sem contar os caracteres\n",
    "# imagine que você não quer os últimos três caracteres de uma string\n",
    "string[:-3]"
   ]
  },
  {
   "cell_type": "code",
   "execution_count": 76,
   "metadata": {},
   "outputs": [
    {
     "data": {
      "text/plain": [
       "'us Insper'"
      ]
     },
     "execution_count": 76,
     "metadata": {},
     "output_type": "execute_result"
    }
   ],
   "source": [
    "# ou que você não queira os três primeiros\n",
    "string[3:]"
   ]
  },
  {
   "cell_type": "code",
   "execution_count": 77,
   "metadata": {},
   "outputs": [
    {
     "ename": "TypeError",
     "evalue": "'str' object does not support item assignment",
     "output_type": "error",
     "traceback": [
      "\u001b[0;31m---------------------------------------------------------------------------\u001b[0m",
      "\u001b[0;31mTypeError\u001b[0m                                 Traceback (most recent call last)",
      "\u001b[0;32m<ipython-input-77-508aeaa5586f>\u001b[0m in \u001b[0;36m<module>\u001b[0;34m\u001b[0m\n\u001b[1;32m      1\u001b[0m \u001b[0;31m# atente que você pode mudar uma string por outra\u001b[0m\u001b[0;34m\u001b[0m\u001b[0;34m\u001b[0m\u001b[0;34m\u001b[0m\u001b[0m\n\u001b[1;32m      2\u001b[0m \u001b[0;31m# mas não pode mudar um único caracter\u001b[0m\u001b[0;34m\u001b[0m\u001b[0;34m\u001b[0m\u001b[0;34m\u001b[0m\u001b[0m\n\u001b[0;32m----> 3\u001b[0;31m \u001b[0mstring\u001b[0m\u001b[0;34m[\u001b[0m\u001b[0;36m0\u001b[0m\u001b[0;34m]\u001b[0m \u001b[0;34m=\u001b[0m \u001b[0;34m'C'\u001b[0m\u001b[0;34m\u001b[0m\u001b[0;34m\u001b[0m\u001b[0m\n\u001b[0m",
      "\u001b[0;31mTypeError\u001b[0m: 'str' object does not support item assignment"
     ]
    }
   ],
   "source": [
    "# atente que você pode mudar uma string por outra\n",
    "# mas não pode mudar um único caracter\n",
    "string[0] = 'C'"
   ]
  },
  {
   "cell_type": "code",
   "execution_count": 81,
   "metadata": {},
   "outputs": [
    {
     "name": "stdout",
     "output_type": "stream",
     "text": [
      "Talus Insper possui 12 caracteres\n",
      "1\n"
     ]
    }
   ],
   "source": [
    "# existem algumas funções muito práticas para lidarmos com strings\n",
    "# como a função len() que nos devolve o tamanho de uma string\n",
    "print(\"{0} possui {1} caracteres\".format(string, len(string)))\n",
    "\n",
    "# espaço e elementos como \\n como UM único caracter\n",
    "print(len('\\n'))"
   ]
  },
  {
   "cell_type": "code",
   "execution_count": 82,
   "metadata": {},
   "outputs": [
    {
     "data": {
      "text/plain": [
       "'TALUS INSPER'"
      ]
     },
     "execution_count": 82,
     "metadata": {},
     "output_type": "execute_result"
    }
   ],
   "source": [
    "# os métodos upper() e lower() deixam uma string maiuscula ou minuscula, respectivamente\n",
    "string.upper()"
   ]
  },
  {
   "cell_type": "code",
   "execution_count": 83,
   "metadata": {},
   "outputs": [
    {
     "data": {
      "text/plain": [
       "'talus insper'"
      ]
     },
     "execution_count": 83,
     "metadata": {},
     "output_type": "execute_result"
    }
   ],
   "source": [
    "string.lower()"
   ]
  },
  {
   "cell_type": "code",
   "execution_count": 85,
   "metadata": {},
   "outputs": [],
   "source": [
    "# os métodos NÃO altera a string original\n",
    "# métodos devem ser passados após a variável diferente de funções\n",
    "# calma que você ainda vai entender o porque"
   ]
  },
  {
   "cell_type": "code",
   "execution_count": 86,
   "metadata": {},
   "outputs": [
    {
     "data": {
      "text/plain": [
       "['Talu', ' In', 'per']"
      ]
     },
     "execution_count": 86,
     "metadata": {},
     "output_type": "execute_result"
    }
   ],
   "source": [
    "# o método split() divide a string em função de um caracter\n",
    "string.split('s')"
   ]
  },
  {
   "cell_type": "code",
   "execution_count": 87,
   "metadata": {},
   "outputs": [
    {
     "data": {
      "text/plain": [
       "['Talus', 'Insper']"
      ]
     },
     "execution_count": 87,
     "metadata": {},
     "output_type": "execute_result"
    }
   ],
   "source": [
    "# perceba que a string foi dividida em função de 's'\n",
    "# caso não passe nenhum argumento, a string será dividida em função do espaço ' '\n",
    "string.split()"
   ]
  },
  {
   "cell_type": "code",
   "execution_count": 88,
   "metadata": {},
   "outputs": [
    {
     "data": {
      "text/plain": [
       "2"
      ]
     },
     "execution_count": 88,
     "metadata": {},
     "output_type": "execute_result"
    }
   ],
   "source": [
    "# o método count() devolve o número de aparições de um caracter ou de uma substring\n",
    "string.count('s')"
   ]
  },
  {
   "cell_type": "code",
   "execution_count": 89,
   "metadata": {},
   "outputs": [
    {
     "data": {
      "text/plain": [
       "1"
      ]
     },
     "execution_count": 89,
     "metadata": {},
     "output_type": "execute_result"
    }
   ],
   "source": [
    "# caso de uma substring\n",
    "string.count('Talus')"
   ]
  },
  {
   "cell_type": "code",
   "execution_count": 90,
   "metadata": {},
   "outputs": [
    {
     "data": {
      "text/plain": [
       "4"
      ]
     },
     "execution_count": 90,
     "metadata": {},
     "output_type": "execute_result"
    }
   ],
   "source": [
    "# o método find() acha o index da primeira aparição de um caracter\n",
    "string.find('s')"
   ]
  },
  {
   "cell_type": "code",
   "execution_count": 94,
   "metadata": {},
   "outputs": [
    {
     "data": {
      "text/plain": [
       "True"
      ]
     },
     "execution_count": 94,
     "metadata": {},
     "output_type": "execute_result"
    }
   ],
   "source": [
    "# Python é uma linguagem muito prática pois várias estruturas de condição seguem a linguagem natural falada\n",
    "# por exemplo a seguinte linha de código verifica se a substring 'Insper' está contida em 'Talus Insper'\n",
    "'Insper' in 'Talus Insper'\n",
    "\n",
    "# bem intuitivo, não?"
   ]
  },
  {
   "cell_type": "markdown",
   "metadata": {},
   "source": [
    "## Estruturas básicas"
   ]
  },
  {
   "cell_type": "markdown",
   "metadata": {},
   "source": [
    "Em Python temos algumas estruturas muito uteis que ajudam a guardar e manipular um série muito maior de dados."
   ]
  },
  {
   "cell_type": "code",
   "execution_count": 1,
   "metadata": {},
   "outputs": [],
   "source": [
    "# O primeiro objeto é a lista. Diferentemente de várias linguagems, em Python não possuimos arrays propriamente ditos,\n",
    "# usamos sempre uma lista para guardar uma série de dados.\n",
    "\n",
    "# Uma lista simples com 5 variáveis do tipo int guardadas dentro dela.\n",
    "lista = [2, 4, 6, 8, 10]"
   ]
  },
  {
   "cell_type": "code",
   "execution_count": 3,
   "metadata": {},
   "outputs": [
    {
     "name": "stdout",
     "output_type": "stream",
     "text": [
      "2\n",
      "10\n"
     ]
    }
   ],
   "source": [
    "# OBS.: Sempre, e quando digo sempre é sempre mesmo, começe a contar a ordem dos itens de uma lista a partir do 0.\n",
    "\n",
    "# Exemplo: Como visto, declaramos uma lista de 5 espaços já preenchidos com números inteiros, assim, o primeiro item\n",
    "# oculpa o espaço de índice 0 e o ultimo o espaço de índice 4.\n",
    "\n",
    "# Primeiro item\n",
    "print(lista[0])\n",
    "\n",
    "# Ultimo item\n",
    "print(lista[4])"
   ]
  },
  {
   "cell_type": "code",
   "execution_count": 4,
   "metadata": {},
   "outputs": [
    {
     "data": {
      "text/plain": [
       "[[0, 1, 2], [3, 4, 5], [6, 7, 8]]"
      ]
     },
     "execution_count": 4,
     "metadata": {},
     "output_type": "execute_result"
    }
   ],
   "source": [
    "# Podemos ter listas de mais de uma dimensão, algo como uma tabela para duas dimensões.\n",
    "\n",
    "lista2D = [[0, 1, 2], [3, 4, 5], [6, 7, 8]]\n",
    "\n",
    "# Perceba que de maneira mais precisa, fizemos uma lista que guarda dentro de si 3 outras listas que, por sua vez, guardam\n",
    "# 3 números inteiros cada.\n",
    "\n",
    "lista2D"
   ]
  },
  {
   "cell_type": "code",
   "execution_count": 6,
   "metadata": {},
   "outputs": [
    {
     "name": "stdout",
     "output_type": "stream",
     "text": [
      "0\n",
      "[3, 4, 5]\n"
     ]
    }
   ],
   "source": [
    "# Lembrando dos conceitos ditos anteriormente, podemos selecionar um item especifico dessa nossa lista 2D.\n",
    "\n",
    "# Item que esta na primeira linha e na primeira coluna da lista.\n",
    "print(lista2D[0][0])\n",
    "\n",
    "# Item da segunda linha. Perceba como temos o retorno da lista que esta na segunda linha ao inves de um número inteiro já\n",
    "# que não especificamos qual coluna queriamos.\n",
    "print(lista2D[1])"
   ]
  },
  {
   "cell_type": "code",
   "execution_count": 9,
   "metadata": {},
   "outputs": [
    {
     "data": {
      "text/plain": [
       "[0, 1, 2, 4]"
      ]
     },
     "execution_count": 9,
     "metadata": {},
     "output_type": "execute_result"
    }
   ],
   "source": [
    "# O objeto lista tem várias funções muito uteis para manipularmos seus dados.\n",
    "# A função append() adiciona um item qualquer ao fim da lista.\n",
    "\n",
    "lista = [0, 1, 2]\n",
    "\n",
    "# Fazendo uso da função append.\n",
    "lista.append(4)\n",
    "\n",
    "lista"
   ]
  },
  {
   "cell_type": "code",
   "execution_count": 11,
   "metadata": {},
   "outputs": [
    {
     "data": {
      "text/plain": [
       "[1, 2, 3, 4, 5, 6, 7, 8, 9, 10]"
      ]
     },
     "execution_count": 11,
     "metadata": {},
     "output_type": "execute_result"
    }
   ],
   "source": [
    "# Também podemos adicionar vários items de uma vez usando a função extend().\n",
    "\n",
    "# Lista original.\n",
    "x = [1, 2, 3, 4, 5]\n",
    "\n",
    "# Lista que irá ser adicionada a original.\n",
    "y = [6, 7, 8, 9, 10]\n",
    "\n",
    "# Fazendo uso da função extend para adicionarmos y a x.\n",
    "x.extend(y)\n",
    "\n",
    "x\n",
    "\n",
    "# OBS.: O argumento (você verá mais especificamente o que é isso um pouco mais a frente) da função extend deve ser um\n",
    "# \"iterable\", resumidamente, deve ser uma outra lista."
   ]
  },
  {
   "cell_type": "code",
   "execution_count": 12,
   "metadata": {},
   "outputs": [
    {
     "data": {
      "text/plain": [
       "0"
      ]
     },
     "execution_count": 12,
     "metadata": {},
     "output_type": "execute_result"
    }
   ],
   "source": [
    "# A função index() retorna o indice de certo item em uma lista.\n",
    "\n",
    "lista = ['Astronomia', 'Exame', 'Consulta']\n",
    "\n",
    "lista.index('Astronomia')"
   ]
  },
  {
   "cell_type": "code",
   "execution_count": 15,
   "metadata": {},
   "outputs": [
    {
     "data": {
      "text/plain": [
       "9"
      ]
     },
     "execution_count": 15,
     "metadata": {},
     "output_type": "execute_result"
    }
   ],
   "source": [
    "# Podemos especificar para a função index uma posição para começar a procurar. Caso não especefiquemos nada, como fizemos\n",
    "# antes, ela começara a procurar do item 0 da lista.\n",
    "\n",
    "lista = [1, 2, 3, 4, 5, 6, 7, 8, 9, 1, 2]\n",
    "\n",
    "# Perceba como nesse caso ele retorna o indice 0\n",
    "lista.index(1)\n",
    "\n",
    "# Perceba agora como ele retorna o indice 9, já que não temos nenhum 1 a partir do indice 2 até chegarmos até o indice 9\n",
    "lista.index(1, 2)"
   ]
  },
  {
   "cell_type": "code",
   "execution_count": 17,
   "metadata": {},
   "outputs": [
    {
     "data": {
      "text/plain": [
       "[0, 1, 1, 4, 6, 8, 9, 21, 54]"
      ]
     },
     "execution_count": 17,
     "metadata": {},
     "output_type": "execute_result"
    }
   ],
   "source": [
    "# A função sort() organiza a lista de acordo com alguns argumentos, no entanto, usaremos ela sem nenhum argumento.\n",
    "\n",
    "lista = [4, 1, 8, 6, 54, 1, 9, 0, 21]\n",
    "\n",
    "lista.sort()\n",
    "\n",
    "# Perceba como a lista esta ordenada de maneira ascendente.\n",
    "lista"
   ]
  },
  {
   "cell_type": "code",
   "execution_count": 18,
   "metadata": {},
   "outputs": [
    {
     "data": {
      "text/plain": [
       "['Astrologia', 'Consulta', 'Exame']"
      ]
     },
     "execution_count": 18,
     "metadata": {},
     "output_type": "execute_result"
    }
   ],
   "source": [
    "# Podemos usar a função sort() para organizar uma lista de strings.\n",
    "\n",
    "lista = ['Astronomia', 'Exame', 'Consulta']\n",
    "\n",
    "lista.sort()\n",
    "\n",
    "# Perceba como a lista esta ordenada de maneira alfabética.\n",
    "lista"
   ]
  },
  {
   "cell_type": "code",
   "execution_count": 20,
   "metadata": {},
   "outputs": [
    {
     "name": "stdout",
     "output_type": "stream",
     "text": [
      "2\n",
      "[1, 3, 4, 5, 6, 7]\n"
     ]
    }
   ],
   "source": [
    "# A função pop() remove um item da lista e o retorna. Muito util quando se quer obter o item em certa posição de uma\n",
    "# lista e ao mesmo tempo não quer que ele esteja contido lá depois da aquisição.\n",
    "\n",
    "lista = [1, 2, 3, 4, 5, 6, 7]\n",
    "\n",
    "item = lista.pop(1)\n",
    "\n",
    "# Perceba como a varável item agora guarda o segundo item da lista\n",
    "print(item)\n",
    "\n",
    "# Perceba como o número 2 não existe mais na lista\n",
    "print(lista)\n",
    "\n",
    "#OBS.: Quando nenhum indice é especificado, o ultimo item será removido e retornado."
   ]
  }
 ],
 "metadata": {
  "kernelspec": {
   "display_name": "Python 3",
   "language": "python",
   "name": "python3"
  },
  "language_info": {
   "codemirror_mode": {
    "name": "ipython",
    "version": 3
   },
   "file_extension": ".py",
   "mimetype": "text/x-python",
   "name": "python",
   "nbconvert_exporter": "python",
   "pygments_lexer": "ipython3",
   "version": "3.7.3"
  }
 },
 "nbformat": 4,
 "nbformat_minor": 4
}
