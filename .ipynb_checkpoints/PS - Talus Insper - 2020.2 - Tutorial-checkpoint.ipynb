{
 "cells": [
  {
   "cell_type": "markdown",
   "metadata": {},
   "source": [
    "# O QUE VAI SER FEITO NESSE NOTEBOOK\n",
    "<br>\n",
    "\n",
    "- Tutorial simples de Jupyter\n",
    "    - Escolher o kernel\n",
    "    - Inserir, excluir e fazer split de célula\n",
    "    - Rodar células\n",
    "    - Tipos de célula\n",
    "- __Tipos de variáveis__\n",
    "    - __Ensinar função type__\n",
    "    - __Ensinar como converter entre tipos de variáveis__\n",
    "    - __Atribuir valores__\n",
    "- __Operações básicas__\n",
    "    - __Soma__\n",
    "    - __Subtração__\n",
    "    - __Multiplicação__\n",
    "    - __Divisão__\n",
    "    - __Exponenciação__\n",
    "    - __Módulo__\n",
    "    - __Arrendodamento__\n",
    "    - __Valor absoluto__\n",
    "    - __Comparação__\n",
    "- __Operações com strings__\n",
    "    - __Concatenação__\n",
    "    - __Manipulação__\n",
    "    - __Funções básicas__\n",
    "- __Estruturas básicas__\n",
    "    - __Listas__\n",
    "    - __Dicionários__\n",
    "    - __Operações com estas estruturas__\n",
    "- __Condicionais__\n",
    "    - __If__\n",
    "    - __Else__\n",
    "    - __Elif__\n",
    "- __Estruturas de repetição__\n",
    "    - __While__\n",
    "    - __For__\n",
    "    - __Range__\n",
    "- __Funções__\n",
    "    - __Criar funções__\n",
    "    - __Documentar funções__\n",
    "- Arquivos\n",
    "    - Ler\n",
    "    - Escrever\n",
    "- Programação Orientada a Objetos (POO)\n",
    "    - Classes\n",
    "    - Objetos\n",
    "    - Métodos\n",
    "    - Herança\n",
    "- Importar módulos\n",
    "- Stack básica de PyData\n",
    "    - Numpy\n",
    "    - Pandas\n",
    "    - Matplotlib/Seaborn"
   ]
  },
  {
   "cell_type": "markdown",
   "metadata": {},
   "source": [
    "## Variáveis e tipos de variáveis"
   ]
  },
  {
   "cell_type": "markdown",
   "metadata": {},
   "source": [
    "Diferente de outras linguagens de programação tradicionais, em Python você não precisa declarar o tipo de uma variável. Você pode declarar variáveis simplesmente atribuindo um valor a elas e também pode mudar a qualquer momento:"
   ]
  },
  {
   "cell_type": "code",
   "execution_count": null,
   "metadata": {},
   "outputs": [],
   "source": [
    "# a função usada para verificar o tipo de uma variável é a função type()\n",
    "print('{0} é uma variável do tipo {1}'.format(-1,type(-1)))"
   ]
  },
  {
   "cell_type": "code",
   "execution_count": null,
   "metadata": {},
   "outputs": [],
   "source": [
    "# você pode simplesmente invocar a função e passar o argumento que ao executar a célula terá como output o tipo\n",
    "type(-1)"
   ]
  },
  {
   "cell_type": "markdown",
   "metadata": {},
   "source": [
    "Alguns outros tipos de variáveis comuns em python são:"
   ]
  },
  {
   "cell_type": "code",
   "execution_count": null,
   "metadata": {},
   "outputs": [],
   "source": [
    "# inteiros (e.g. 0, -1, 2)\n",
    "print('{0} é uma variável do tipo {1}'.format(2,type(2)))"
   ]
  },
  {
   "cell_type": "code",
   "execution_count": null,
   "metadata": {},
   "outputs": [],
   "source": [
    "# float/números reais/pontos flutuantes (e.g. 1.0, 3.14, -2.71)\n",
    "print('{0} e {1} são variáveis do tipo {2}'.format(2.0,3.14,type(2.0)))"
   ]
  },
  {
   "cell_type": "code",
   "execution_count": null,
   "metadata": {},
   "outputs": [],
   "source": [
    "# complex/números complexos (e.g. 3 + 4j, -1j)\n",
    "# atente que, ao contrário da literatura clássica, aqui a raiz complexa é j\n",
    "print('{0} é uma variável do tipo {1}'.format(3+4j,type(3+4j)))"
   ]
  },
  {
   "cell_type": "code",
   "execution_count": null,
   "metadata": {},
   "outputs": [],
   "source": [
    "# string/caracteres/texto (e.g. 'isso eh uma string', 'a', 'string')\n",
    "print(\"{0} é uma variável do tipo {1}\".format('Uma string',type('Uma string')))"
   ]
  },
  {
   "cell_type": "code",
   "execution_count": null,
   "metadata": {},
   "outputs": [],
   "source": [
    "# OBS.: strings devem estar entre aspas (\"\") ou aspas simples ('')\n",
    "# do contrário será interpretado como uma variável sem valor\n",
    "# rode a célula abaixo para verificar o erro que será obtido se esquecer as aspas\n",
    "type(string)"
   ]
  },
  {
   "cell_type": "code",
   "execution_count": null,
   "metadata": {},
   "outputs": [],
   "source": [
    "# booleano (e.g. True ou False)\n",
    "print('{0} é uma variável do tipo {1}'.format(True,type(True)))\n",
    "# perceba que True e False não precisam de aspas, no entanto a primeira letra deve ser maiúscula\n",
    "# nunca nomeie variáveis com esse nome, é uma boa prática de programação!"
   ]
  },
  {
   "cell_type": "code",
   "execution_count": null,
   "metadata": {},
   "outputs": [],
   "source": [
    "# None/vazio/sem valor\n",
    "print('{0} é uma variável do tipo {1}'.format(None,type(None)))"
   ]
  },
  {
   "cell_type": "markdown",
   "metadata": {},
   "source": [
    "Pode ser útil comparar o tipo de variáveis e até mesmo converter o tipo da variável para outro. Verifique como fazer isso:"
   ]
  },
  {
   "cell_type": "code",
   "execution_count": null,
   "metadata": {},
   "outputs": [],
   "source": [
    "# para comparar o tipo de uma variável, usamos a função isinstance()\n",
    "# ela retorna um booleano com o resultado da comparação\n",
    "print('isinstance(\"Uma string\",str) = {0}'.format(isinstance('Uma string',str)))\n",
    "print('isinstance(-1,float) = {0}'.format(isinstance(-1,float)))"
   ]
  },
  {
   "cell_type": "code",
   "execution_count": null,
   "metadata": {},
   "outputs": [],
   "source": [
    "# para converter o tipo da variável, basta passar esta por uma função específica de cada variável\n",
    "string_para_converter = '-1'\n",
    "type(string_para_converter)"
   ]
  },
  {
   "cell_type": "code",
   "execution_count": null,
   "metadata": {},
   "outputs": [],
   "source": [
    "string_convertida = float(string_para_converter)\n",
    "type(string_convertida)"
   ]
  },
  {
   "cell_type": "markdown",
   "metadata": {},
   "source": [
    "Diferentemente de outras linguagens tradicionais, não é preciso declarar o tipo de uma variável quando esta é declarada. O que permite substituir e converter variáveis muito mais fácil, como visto nas células acima"
   ]
  },
  {
   "cell_type": "code",
   "execution_count": null,
   "metadata": {},
   "outputs": [],
   "source": [
    "# a maneira correta de declarar uma variável é variavel = valor\n",
    "# nunca use valor = variavel\n",
    "var = 1\n",
    "print('{0} do tipo {1}'.format(var,type(var)))\n",
    "var = float(var)\n",
    "print('{0} do tipo {1}'.format(var,type(var)))\n",
    "var = 'string'\n",
    "print('{0} do tipo {1}'.format(var,type(var)))\n",
    "\n",
    "# a mesma variável com valores e tipos diferentes!"
   ]
  },
  {
   "cell_type": "code",
   "execution_count": null,
   "metadata": {},
   "outputs": [],
   "source": [
    "# lembre-se que Python é uma linguagem case sensity\n",
    "# isso significa que letras maiusculas e minusculas no corpo de uma variável são diferentes\n",
    "var = 2\n",
    "Var = 3\n",
    "print(var, Var)"
   ]
  },
  {
   "cell_type": "markdown",
   "metadata": {},
   "source": [
    "## Operações básicas"
   ]
  },
  {
   "cell_type": "markdown",
   "metadata": {},
   "source": [
    "É importante ainda saber realizar operações com variáveis em Python. Veja algumas das operações principais:"
   ]
  },
  {
   "cell_type": "code",
   "execution_count": null,
   "metadata": {},
   "outputs": [],
   "source": [
    "# soma\n",
    "a = 2\n",
    "b = 3\n",
    "c = a + b\n",
    "c"
   ]
  },
  {
   "cell_type": "code",
   "execution_count": null,
   "metadata": {},
   "outputs": [],
   "source": [
    "# você ainda pode fazer isso diretamente, sem atribuir a um novo valor\n",
    "a + b"
   ]
  },
  {
   "cell_type": "code",
   "execution_count": null,
   "metadata": {},
   "outputs": [],
   "source": [
    "# é possível ainda realizar operações com ints e floats\n",
    "c + 3.14"
   ]
  },
  {
   "cell_type": "code",
   "execution_count": null,
   "metadata": {},
   "outputs": [],
   "source": [
    "# não é possível somar números com variáveis não numéricas\n",
    "5 + 'string'"
   ]
  },
  {
   "cell_type": "code",
   "execution_count": null,
   "metadata": {},
   "outputs": [],
   "source": [
    "# entretanto é possível somar strings\n",
    "# a essa operação damos o nome de 'concatenação'\n",
    "str1 = 'Eu vou passar'\n",
    "str2 = 'no case da Talus'\n",
    "str_res = str1 + ' ' + str2\n",
    "str_res"
   ]
  },
  {
   "cell_type": "code",
   "execution_count": null,
   "metadata": {},
   "outputs": [],
   "source": [
    "# subtração\n",
    "a = 5\n",
    "b = 2.5\n",
    "a - b"
   ]
  },
  {
   "cell_type": "code",
   "execution_count": null,
   "metadata": {},
   "outputs": [],
   "source": [
    "# não é possível realizar o mesmo com strings novamente\n",
    "str1 = 'Eu vou passar no case da Talus'\n",
    "str2 = 'Talus'\n",
    "str1 - str2"
   ]
  },
  {
   "cell_type": "code",
   "execution_count": null,
   "metadata": {},
   "outputs": [],
   "source": [
    "# multiplicação\n",
    "a = 3.14\n",
    "b = -2\n",
    "a*b"
   ]
  },
  {
   "cell_type": "code",
   "execution_count": null,
   "metadata": {},
   "outputs": [],
   "source": [
    "# dessa vez é possível usar essa operação com strings\n",
    "str1 = '*'\n",
    "str1*5"
   ]
  },
  {
   "cell_type": "code",
   "execution_count": null,
   "metadata": {},
   "outputs": [],
   "source": [
    "# divisão\n",
    "a = 5\n",
    "b = 2\n",
    "a/b"
   ]
  },
  {
   "cell_type": "code",
   "execution_count": null,
   "metadata": {},
   "outputs": [],
   "source": [
    "# se usarmos duas barras inclinadas conseguiremos apenas a parte inteira da divisão\n",
    "a//b"
   ]
  },
  {
   "cell_type": "code",
   "execution_count": null,
   "metadata": {},
   "outputs": [],
   "source": [
    "# cuidado ao dividir por zero!\n",
    "# veja o erro que você obteria\n",
    "3.14/0"
   ]
  },
  {
   "cell_type": "code",
   "execution_count": null,
   "metadata": {},
   "outputs": [],
   "source": [
    "# exponenciação\n",
    "# a operação de exponenciação é realizada usando dois asteriscos de multiplicação\n",
    "a = 4\n",
    "a**2"
   ]
  },
  {
   "cell_type": "code",
   "execution_count": null,
   "metadata": {},
   "outputs": [],
   "source": [
    "# também é possível realizar a operação utilizando a função pow()\n",
    "pow(16,0.5)\n",
    "# note que o resultado da radiação é um float e não um inteiro"
   ]
  },
  {
   "cell_type": "code",
   "execution_count": null,
   "metadata": {},
   "outputs": [],
   "source": [
    "# módulo\n",
    "# o operador módulo representada por '%' devolve o resto da divisão entre dois números\n",
    "5%2"
   ]
  },
  {
   "cell_type": "code",
   "execution_count": null,
   "metadata": {},
   "outputs": [],
   "source": [
    "# arredondamento\n",
    "# é possível arredondar números usando a função round\n",
    "pi = 3.14159265359\n",
    "print('O número completo é {0}\\nO número arredondado para duas casas decimais é {1}'.format(pi, round(pi,2)))"
   ]
  },
  {
   "cell_type": "code",
   "execution_count": null,
   "metadata": {},
   "outputs": [],
   "source": [
    "# valor absoluto\n",
    "# a função abs() retorna o valor absoluto de um número\n",
    "abs(-2.71)"
   ]
  },
  {
   "cell_type": "code",
   "execution_count": null,
   "metadata": {},
   "outputs": [],
   "source": [
    "# serve inclusive para números complexos\n",
    "# seja um número complexo z = a + bj -> abs(z) = raiz(a² + b²)\n",
    "z = 3 + 4j\n",
    "abs(z)"
   ]
  },
  {
   "cell_type": "code",
   "execution_count": null,
   "metadata": {},
   "outputs": [],
   "source": [
    "# ainda sobre números complexos\n",
    "# é possível obter a parte real e imaginária de um número complexo\n",
    "# basta usar os atribulos .real e .imag\n",
    "print('A parte real de {0} é {1} e a parte imaginária é {2}'.format(z, z.real, z.imag))\n",
    "\n",
    "# não se preocupe agora com o significado de atributo\n",
    "# você também verá isso"
   ]
  },
  {
   "cell_type": "code",
   "execution_count": null,
   "metadata": {},
   "outputs": [],
   "source": [
    "# comparação\n",
    "# esse conjunto de operações retorna um valor booleano que verifica a veracidade do que foi dito\n",
    "a = 2\n",
    "b = 3.14\n",
    "a == b"
   ]
  },
  {
   "cell_type": "code",
   "execution_count": null,
   "metadata": {},
   "outputs": [],
   "source": [
    "# perceba que a comparação é feita utilizando dois símbolos de igualdade\n",
    "# um único símbolo tem valor de atribuição, duplo símbolos têm valor de comparação\n",
    "# da mesma forma, é possível verificar a desigualdade, nesse caso usamos como sinal '!='\n",
    "a != b"
   ]
  },
  {
   "cell_type": "code",
   "execution_count": null,
   "metadata": {},
   "outputs": [],
   "source": [
    "# você pode usar ainda símbolos como >, <, >= (maior que ou igual), <= (menor que ou igual)\n",
    "a <= b"
   ]
  },
  {
   "cell_type": "markdown",
   "metadata": {},
   "source": [
    "## Manipulação de strings"
   ]
  },
  {
   "cell_type": "markdown",
   "metadata": {},
   "source": [
    "Como vimos, existem algumas operações de números são aplicáveis a strings. Nessa parte, vamos ver algumas operações desse tipo de variável"
   ]
  },
  {
   "cell_type": "code",
   "execution_count": null,
   "metadata": {},
   "outputs": [],
   "source": [
    "# se quiser acrescentar cotações ou marcações com aspas em uma string\n",
    "# é preciso mesclar entre aspas simples e aspas duplas\n",
    "string = '\"Make it work, make it right, make it fast.\"\\n-Kent Beck'\n",
    "print(string)"
   ]
  },
  {
   "cell_type": "code",
   "execution_count": null,
   "metadata": {},
   "outputs": [],
   "source": [
    "# perceba que usamos uma estrutura peculiar na string anterior: um '\\n'\n",
    "# essas estruturas nos permitem adicionar elementos de espaçamento a uma string\n",
    "# como quebra de linha ou tabeamento (nesse caso seria \\t)\n",
    "string = 'exemplo de\\ttabeamento'\n",
    "print(string)"
   ]
  },
  {
   "cell_type": "code",
   "execution_count": null,
   "metadata": {},
   "outputs": [],
   "source": [
    "# nesse caso, perceba que simplesmente convocar a string e executar a célula\n",
    "# não ocuta a estrutura de espaçamento\n",
    "string"
   ]
  },
  {
   "cell_type": "code",
   "execution_count": null,
   "metadata": {},
   "outputs": [],
   "source": [
    "# é possível convocar caracteres ou grupos de caracteres de uma string\n",
    "# para isso, passamos, entre colchetes, o index do caracter\n",
    "# lembre-se que em Python a indexação inicia-se em 0\n",
    "# então em 'Talus Insper' o elemento 0 é o 'T' e o elemento 1 é o 'a'\n",
    "string = 'Talus Insper'\n",
    "string[3]"
   ]
  },
  {
   "cell_type": "code",
   "execution_count": null,
   "metadata": {},
   "outputs": [],
   "source": [
    "# você pode passar ainda uma range de valores\n",
    "# atente que em Python a range de 0 a n invocaria os n primeiros elementos, portanto de 0 a n-1\n",
    "string[0:4]"
   ]
  },
  {
   "cell_type": "code",
   "execution_count": null,
   "metadata": {},
   "outputs": [],
   "source": [
    "# perceba que o último caracter apresentado é o 'u' que tem index 3\n",
    "# é possível ainda regular o tamanho do passo\n",
    "string[0:4:2]"
   ]
  },
  {
   "cell_type": "code",
   "execution_count": null,
   "metadata": {},
   "outputs": [],
   "source": [
    "# nessa célula, nós pedimos dos elementos 0 a 3 pulando de dois em dois elementos\n",
    "# a sintaxe então seria [index_start:index_stop+1:step]\n",
    "# uma curiosidade é que números negativos também são possível\n",
    "string[::-1]"
   ]
  },
  {
   "cell_type": "code",
   "execution_count": null,
   "metadata": {},
   "outputs": [],
   "source": [
    "# nesse caso foi printado do elemento final até o inicial, já que o step é negativo\n",
    "# e portanto está voltando\n",
    "# você pode ainda controlar o elemento final sem contar os caracteres\n",
    "# imagine que você não quer os últimos três caracteres de uma string\n",
    "string[:-3]"
   ]
  },
  {
   "cell_type": "code",
   "execution_count": null,
   "metadata": {},
   "outputs": [],
   "source": [
    "# ou que você não queira os três primeiros\n",
    "string[3:]"
   ]
  },
  {
   "cell_type": "code",
   "execution_count": null,
   "metadata": {},
   "outputs": [],
   "source": [
    "# atente que você pode mudar uma string por outra\n",
    "# mas não pode mudar um único caracter\n",
    "string[0] = 'C'"
   ]
  },
  {
   "cell_type": "code",
   "execution_count": null,
   "metadata": {},
   "outputs": [],
   "source": [
    "# existem algumas funções muito práticas para lidarmos com strings\n",
    "# como a função len() que nos devolve o tamanho de uma string\n",
    "print(\"{0} possui {1} caracteres\".format(string, len(string)))\n",
    "\n",
    "# espaço e elementos como \\n como UM único caracter\n",
    "print(len('\\n'))"
   ]
  },
  {
   "cell_type": "code",
   "execution_count": null,
   "metadata": {},
   "outputs": [],
   "source": [
    "# os métodos upper() e lower() deixam uma string maiuscula ou minuscula, respectivamente\n",
    "string.upper()"
   ]
  },
  {
   "cell_type": "code",
   "execution_count": null,
   "metadata": {},
   "outputs": [],
   "source": [
    "string.lower()"
   ]
  },
  {
   "cell_type": "code",
   "execution_count": null,
   "metadata": {},
   "outputs": [],
   "source": [
    "# os métodos NÃO altera a string original\n",
    "# métodos devem ser passados após a variável diferente de funções\n",
    "# calma que você ainda vai entender o porque"
   ]
  },
  {
   "cell_type": "code",
   "execution_count": null,
   "metadata": {},
   "outputs": [],
   "source": [
    "# o método split() divide a string em função de um caracter\n",
    "string.split('s')"
   ]
  },
  {
   "cell_type": "code",
   "execution_count": null,
   "metadata": {},
   "outputs": [],
   "source": [
    "# perceba que a string foi dividida em função de 's'\n",
    "# caso não passe nenhum argumento, a string será dividida em função do espaço ' '\n",
    "string.split()"
   ]
  },
  {
   "cell_type": "code",
   "execution_count": null,
   "metadata": {},
   "outputs": [],
   "source": [
    "# o método count() devolve o número de aparições de um caracter ou de uma substring\n",
    "string.count('s')"
   ]
  },
  {
   "cell_type": "code",
   "execution_count": null,
   "metadata": {},
   "outputs": [],
   "source": [
    "# caso de uma substring\n",
    "string.count('Talus')"
   ]
  },
  {
   "cell_type": "code",
   "execution_count": null,
   "metadata": {},
   "outputs": [],
   "source": [
    "# o método find() acha o index da primeira aparição de um caracter\n",
    "string.find('s')"
   ]
  },
  {
   "cell_type": "code",
   "execution_count": null,
   "metadata": {},
   "outputs": [],
   "source": [
    "# Python é uma linguagem muito prática pois várias estruturas de condição seguem a linguagem natural falada\n",
    "# por exemplo a seguinte linha de código verifica se a substring 'Insper' está contida em 'Talus Insper'\n",
    "'Insper' in 'Talus Insper'\n",
    "\n",
    "# bem intuitivo, não?"
   ]
  },
  {
   "cell_type": "markdown",
   "metadata": {},
   "source": [
    "## Estruturas básicas"
   ]
  },
  {
   "cell_type": "markdown",
   "metadata": {},
   "source": [
    "Em Python temos algumas estruturas muito úteis que ajudam a guardar e manipular mais facilmente dados e variáveis"
   ]
  },
  {
   "cell_type": "markdown",
   "metadata": {},
   "source": [
    "A primeira estrutura útil são as __listas__!"
   ]
  },
  {
   "cell_type": "code",
   "execution_count": null,
   "metadata": {},
   "outputs": [],
   "source": [
    "# O primeiro objeto é a lista. Diferentemente de várias linguagems\n",
    "# em Python não possuimos arrays propriamente ditos,\n",
    "# usamos sempre uma lista para guardar uma série de dados.\n",
    "\n",
    "# para declararmos uma lista, basta escrevermos os elementos separados por vírgulas entre colchetes\n",
    "lista = [2, 4, 6, 8, 10]\n",
    "\n",
    "print(lista)\n",
    "print(type(lista))"
   ]
  },
  {
   "cell_type": "code",
   "execution_count": null,
   "metadata": {},
   "outputs": [],
   "source": [
    "# perceba que pode haver, ainda, listas vazias\n",
    "# ou listas com elementos de vários tipos\n",
    "\n",
    "# perceba que até listas podem estar dentro de listas!\n",
    "lista1 = [1, -2, 'string', 3.14, []]\n",
    "\n",
    "lista2 = []\n",
    "\n",
    "print(lista1)\n",
    "print(lista2)"
   ]
  },
  {
   "cell_type": "code",
   "execution_count": null,
   "metadata": {},
   "outputs": [],
   "source": [
    "# você ainda pode gerar listas usando a função list()\n",
    "\n",
    "lista = list()\n",
    "lista"
   ]
  },
  {
   "cell_type": "code",
   "execution_count": null,
   "metadata": {},
   "outputs": [],
   "source": [
    "# essa função pode receber argumentos e eles serão convertidos em listas\n",
    "\n",
    "lista = list('Talus')\n",
    "lista"
   ]
  },
  {
   "cell_type": "code",
   "execution_count": null,
   "metadata": {},
   "outputs": [],
   "source": [
    "# você pode se referir a um item de uma lista convocando seu index\n",
    "# como visto, a contagem em python começa do zero\n",
    "# então se quisermos o termo -2 da lista1, por exemplo, ele é o termo de index 1\n",
    "\n",
    "print(lista1[1])\n",
    "print(lista1[4])"
   ]
  },
  {
   "cell_type": "code",
   "execution_count": null,
   "metadata": {},
   "outputs": [],
   "source": [
    "# você pode ainda remover ou acrescentar novos elementos a uma lista\n",
    "lista = []\n",
    "print('Lista antes de acrescentar elemento: {}'.format(lista))\n",
    "\n",
    "# para acrescentar elementos usamos o método .append()\n",
    "lista.append('Talus')\n",
    "lista.append('Insper')\n",
    "print('Lista após acrescentar elementos: {}'.format(lista))\n",
    "\n",
    "# e, para excluirmos, podemos usar o método .remove()\n",
    "lista.remove('Insper')\n",
    "print('Lista após remover um elemento: {}'.format(lista))"
   ]
  },
  {
   "cell_type": "code",
   "execution_count": null,
   "metadata": {},
   "outputs": [],
   "source": [
    "# perceba que uma lista pode ser vista como um vetor unidimensional de elementos\n",
    "# podemos, ainda, criar listas com dimensões maiores\n",
    "# para isso, criamos uma \"lista de listas\"\n",
    "\n",
    "lista2D = [[1,2,3],[4,5,6],[7,8,9]]\n",
    "print(lista2D)"
   ]
  },
  {
   "cell_type": "code",
   "execution_count": null,
   "metadata": {},
   "outputs": [],
   "source": [
    "# a lista criada pode ser vista como uma matriz de números\n",
    "# pode ser mais fácil visualizar da seguinte maneira\n",
    "\n",
    "print(\"{0}\\n{1}\\n{2}\".format(lista2D[0],lista2D[1],lista2D[2]))"
   ]
  },
  {
   "cell_type": "code",
   "execution_count": null,
   "metadata": {},
   "outputs": [],
   "source": [
    "# você pode ainda criar listas de 3, 4, 10, 50 ou quantas dimensões quiser\n",
    "# para tratar de vetores em dimensões mais altas usamos tensores\n",
    "# eles são uma das criações matemáticas responsáveis pela ascensão do Deep Learning\n",
    "# mas você vai aprender mais sobre isso quando você se juntar a gente! 😉"
   ]
  },
  {
   "cell_type": "code",
   "execution_count": null,
   "metadata": {},
   "outputs": [],
   "source": [
    "# para se referir a um elemento de um vetor de mais dimensões\n",
    "# temos que criar uma cadeia de index que precisamos passar até chegar nesse\n",
    "# por exemplo, em lista2D, o elemento 6 tem index 2 para a lista da qual faz parte\n",
    "# essa lista, por sua vez, tem index 1 para a lista2D\n",
    "# logo a cadeira será 1 -> 2 para acessarmos o elemento 6\n",
    "\n",
    "print(lista2D[1][2])"
   ]
  },
  {
   "cell_type": "markdown",
   "metadata": {},
   "source": [
    "É possível fazer ainda operações com listas:"
   ]
  },
  {
   "cell_type": "code",
   "execution_count": null,
   "metadata": {},
   "outputs": [],
   "source": [
    "# somar listas\n",
    "lista1 = [1,2,3]\n",
    "lista2 = [4,5,6]\n",
    "\n",
    "lista1+lista2"
   ]
  },
  {
   "cell_type": "code",
   "execution_count": null,
   "metadata": {},
   "outputs": [],
   "source": [
    "# você pode até multiplicar uma lista por um inteiro\n",
    "# é o equivalente a somar aquela lista com sigo mesma\n",
    "lista = [1,2,3]\n",
    "\n",
    "lista*4"
   ]
  },
  {
   "cell_type": "code",
   "execution_count": null,
   "metadata": {},
   "outputs": [],
   "source": [
    "# perceba que listas são muito parecidas com strings\n",
    "# na verdade, strings é que são parecidos com listas!\n",
    "# assim como em outras linguagens, uma string é um array/vetor/lista de caracteres\n",
    "# então as operações de string também servem aquim\n",
    "\n",
    "lista = ['Talus','Insper',10,'Machine Learning']\n",
    "print('Talus' in lista)"
   ]
  },
  {
   "cell_type": "markdown",
   "metadata": {},
   "source": [
    "Algumas funções built-in úteis para listas são:"
   ]
  },
  {
   "cell_type": "code",
   "execution_count": null,
   "metadata": {},
   "outputs": [],
   "source": [
    "# obter tamanho de uma lista\n",
    "# para isso usamos a função len()\n",
    "\n",
    "lista = [0,1,2,3,4,5,6,7]\n",
    "len(lista)"
   ]
  },
  {
   "cell_type": "code",
   "execution_count": null,
   "metadata": {},
   "outputs": [],
   "source": [
    "# retornar o máximo valor de uma lista\n",
    "\n",
    "max(lista)"
   ]
  },
  {
   "cell_type": "code",
   "execution_count": null,
   "metadata": {},
   "outputs": [],
   "source": [
    "# retornar o mínimo valor de uma lista\n",
    "\n",
    "min(lista)"
   ]
  },
  {
   "cell_type": "code",
   "execution_count": null,
   "metadata": {},
   "outputs": [],
   "source": [
    "# contar o número de termos numa lista\n",
    "\n",
    "lista = ['Talus','Insper','Talus','Machine Learning','IA']\n",
    "lista.count('Talus')"
   ]
  },
  {
   "cell_type": "code",
   "execution_count": null,
   "metadata": {},
   "outputs": [],
   "source": [
    "# pegar o index da primeira aparição\n",
    "\n",
    "lista.index('Insper')"
   ]
  },
  {
   "cell_type": "code",
   "execution_count": null,
   "metadata": {},
   "outputs": [],
   "source": [
    "# inserir elementos em outra posição\n",
    "\n",
    "# acrescentando 'Data Science' a posição de index 2\n",
    "lista.insert(2, 'Data Science')\n",
    "lista"
   ]
  },
  {
   "cell_type": "code",
   "execution_count": null,
   "metadata": {},
   "outputs": [],
   "source": [
    "# reverter a ordem dos elementos\n",
    "\n",
    "lista.reverse()\n",
    "lista"
   ]
  },
  {
   "cell_type": "code",
   "execution_count": null,
   "metadata": {},
   "outputs": [],
   "source": [
    "# sortear os elementos de uma lista\n",
    "\n",
    "lista = [3.14, -1, 5, 0, 2]\n",
    "lista.sort()\n",
    "lista"
   ]
  },
  {
   "cell_type": "markdown",
   "metadata": {},
   "source": [
    "Imagine agora que você precisasse criar uma maneira de relacionar as disciplinas do primeiro ano de engenharia do Insper com o semestre dessa disciplina. Com os conhecimentos até aqui você poderia pensar em criar duas listas: uma com os nomes das disciplinas e, para cada disciplina, o semestre em outra lista com o mesmo index"
   ]
  },
  {
   "cell_type": "code",
   "execution_count": null,
   "metadata": {},
   "outputs": [],
   "source": [
    "disciplinas = ['GDE','DeSoft','ModSim','InstruMed','NatDes','MatVar','CDados','Acionas','CoDes','FisMov']\n",
    "semestre = ['1° Semestre','1° Semestre','1° Semestre','1° Semestre','1° Semestre',\n",
    "            '2° Semestre','2° Semestre','2° Semestre','2° Semestre','2° Semestre']"
   ]
  },
  {
   "cell_type": "code",
   "execution_count": null,
   "metadata": {},
   "outputs": [],
   "source": [
    "# dessa forma\n",
    "\n",
    "print('{0} é uma matéria do {1}. Já {2} é uma matéria do {3}'\n",
    "      .format(disciplinas[5],semestre[5],disciplinas[0],semestre[0]))"
   ]
  },
  {
   "cell_type": "markdown",
   "metadata": {},
   "source": [
    "Uma maneira ainda mais eficiente seria criar uma única lista com dois elementos: 1° e 2° semestre e outra lista com duas listas: uma com as matérias do primeiro semestre e outra com as matérias do segundo"
   ]
  },
  {
   "cell_type": "code",
   "execution_count": null,
   "metadata": {},
   "outputs": [],
   "source": [
    "semestre = ['1° Semestre','2° Semestre']\n",
    "disciplinas = [['GDE','DeSoft','ModSim','InstruMed','NatDes'],['MatVar','CDados','Acionas','CoDes','FisMov']]\n",
    "\n",
    "print('{0} é uma matéria do {1}. Já {2} é uma matéria do {3}'\n",
    "      .format(disciplinas[1][2],semestre[1],disciplinas[0][1],semestre[0]))"
   ]
  },
  {
   "cell_type": "markdown",
   "metadata": {},
   "source": [
    "Mas ainda existe um jeito ainda mais eficiente. A próxima estrutura que vamos falar sobre resolve esse problema muito mais fácil. Essa estrutura são os __dicionários__"
   ]
  },
  {
   "cell_type": "code",
   "execution_count": null,
   "metadata": {},
   "outputs": [],
   "source": [
    "# Um dicionário simples contendo o nome, sobrenome e a idade de uma pessoa.\n",
    "dicionario = {'Nome': 'Joseph', 'Sobrenome': 'Joestrela', 'Idade': 69}\n",
    "\n",
    "# Vamos acessar o sobrenome dessa pessoa usando a chave 'Sobrenome'\n",
    "print(dicionario['Sobrenome'])\n",
    "\n",
    "# Vamos acessar agora a idade dessa pessoa com a chave 'Idade'\n",
    "print(dicionario['Idade'])"
   ]
  },
  {
   "cell_type": "code",
   "execution_count": null,
   "metadata": {},
   "outputs": [],
   "source": [
    "# você pode ainda criar dicionários através da função dict()\n",
    "\n",
    "dicionario = dict()\n",
    "dicionario"
   ]
  },
  {
   "cell_type": "code",
   "execution_count": null,
   "metadata": {},
   "outputs": [],
   "source": [
    "# é possível adicionar elementos a esse dicionário da seguinte forma\n",
    "\n",
    "dicionario['key'] = 'value'\n",
    "dicionario['pi'] = 3.14\n",
    "dicionario"
   ]
  },
  {
   "cell_type": "code",
   "execution_count": null,
   "metadata": {},
   "outputs": [],
   "source": [
    "# Assim como a lista, o dicionário possui algumas funções muito uteis para facilitar sua manipulação.\n",
    "# A função values() retorna todos os valores das chaves do dicionário.\n",
    "\n",
    "dicionario = {'Nome': 'Joseph', 'Sobrenome': 'Joestrela', 'Idade': 69}\n",
    "\n",
    "dicionario.values()"
   ]
  },
  {
   "cell_type": "code",
   "execution_count": null,
   "metadata": {},
   "outputs": [],
   "source": [
    "# A função keys() retorna todas as chaves do dicionário\n",
    "\n",
    "dicionario = {'Nome': 'Joseph', 'Sobrenome': 'Joestrela', 'Idade': 69}\n",
    "\n",
    "dicionario.keys()"
   ]
  },
  {
   "cell_type": "code",
   "execution_count": null,
   "metadata": {},
   "outputs": [],
   "source": [
    "# A função pop() nos dicionários funciona de uma maneira muito semelhante a sua semelhante nas listas, contudo, usaremos\n",
    "# as chaves ao inves dos indices\n",
    "\n",
    "dicionario = {'Nome': 'Joseph', 'Sobrenome': 'Joestrela', 'Idade': 69}\n",
    "\n",
    "nome = dicionario.pop('Nome')\n",
    "\n",
    "# O nome da pessoa obtido através da função pop()\n",
    "print(nome)\n",
    "\n",
    "# Perceba que a chave 'Nome', assim como seu valor foram perdidos\n",
    "print(dicionario)"
   ]
  },
  {
   "cell_type": "code",
   "execution_count": null,
   "metadata": {},
   "outputs": [],
   "source": [
    "# A função popitem() funciona como a função pop() em listas quando não especificamos o indice, removendo o ultimo\n",
    "# item junto a sua chave e os retornando.\n",
    "\n",
    "dicionario = {'Nome': 'Joseph', 'Sobrenome': 'Joestrela', 'Idade': 69}\n",
    "\n",
    "idade = dicionario.popitem()\n",
    "\n",
    "# A idade da pessoa\n",
    "print(idade)\n",
    "\n",
    "# Perceba como o ultimo item do dicionario foi perdido junto a sua chave\n",
    "print(dicionario)"
   ]
  },
  {
   "cell_type": "code",
   "execution_count": null,
   "metadata": {},
   "outputs": [],
   "source": [
    "# sendo assim, veja como poderíamos solucionar o problema das disciplinas\n",
    "\n",
    "semestre_disciplina = {'1° Semestre':['GDE','DeSoft','ModSim','InstruMed','NatDes'],\n",
    "                       '2° Semestre':['MatVar','CDados','Acionas','CoDes','FisMov']}\n",
    "\n",
    "semestre = '1° Semestre'\n",
    "print('{0} são disciplinas do {1}'\n",
    "      .format(semestre_disciplina[semestre], semestre))"
   ]
  },
  {
   "cell_type": "markdown",
   "metadata": {},
   "source": [
    "## Condicionais"
   ]
  },
  {
   "cell_type": "markdown",
   "metadata": {},
   "source": [
    "Em Python existem estruturas condicionais como em outras linguagens de programação. Veja como utilizar algumas delas"
   ]
  },
  {
   "cell_type": "code",
   "execution_count": null,
   "metadata": {},
   "outputs": [],
   "source": [
    "# em Python é possível realizar comparações sem uma estrutura de comparação\n",
    "\n",
    "print(5 > 2)"
   ]
  },
  {
   "cell_type": "code",
   "execution_count": null,
   "metadata": {},
   "outputs": [],
   "source": [
    "# vê? Afinal, 5 realmente é maior que 2 até o momento em que escrevo isso\n",
    "# podemos relacionar essas condições com uma ação\n",
    "# como um \"acionador\"\n",
    "# veja como podemos fazer isso"
   ]
  },
  {
   "cell_type": "code",
   "execution_count": null,
   "metadata": {},
   "outputs": [],
   "source": [
    "# condicional if\n",
    "\n",
    "if 5>2:\n",
    "    print(\"5 é maior que 2, ufa!\")"
   ]
  },
  {
   "cell_type": "markdown",
   "metadata": {},
   "source": [
    "Algumas coisas são importantes notar:\n",
    "\n",
    "- Em Python não precisamos por as condições entre parênteses. Mas se você usar também funciona!\n",
    "- Python não possui chave para separar os blocos de código, mas a identação é muito importante!\n",
    "- Não esqueça os dois pontos também!"
   ]
  },
  {
   "cell_type": "code",
   "execution_count": null,
   "metadata": {},
   "outputs": [],
   "source": [
    "# multiplas condições\n",
    "# é possível usar multiplas condições em um único if usando operadores lógicos and e or\n",
    "\n",
    "if (5 > 2 and 3 < 6):\n",
    "    print(\"Deu certo!\")\n",
    "    \n",
    "if (5 > 2 or 3 > 6):\n",
    "    print(\"Também deu certo!\")"
   ]
  },
  {
   "cell_type": "code",
   "execution_count": null,
   "metadata": {},
   "outputs": [],
   "source": [
    "# o condicional and é equivalente a utilizar um if dentro de outro\n",
    "\n",
    "if 5 > 2:\n",
    "    if 3 < 6:\n",
    "        print(\"Vê?\")"
   ]
  },
  {
   "cell_type": "code",
   "execution_count": null,
   "metadata": {},
   "outputs": [],
   "source": [
    "# já o condicional or é equivalente a escrever dois if separadamente com a mesma ação\n",
    "\n",
    "if 5 > 2:\n",
    "    print(\"Okay, né?\")\n",
    "if 3 > 6:\n",
    "    print(\"Okay, né?\")"
   ]
  },
  {
   "cell_type": "markdown",
   "metadata": {},
   "source": [
    "Até agora fizemos operações usando os operadores \"maior que\" (>) e \"menor que\" (<). Mas atente para outros sinais:\n",
    "\n",
    "- maior que ou igual (>=)\n",
    "- menor que ou igual (<=)\n",
    "- igual (==)\n",
    "- diferente (!=)\n",
    "\n",
    "perceba que o operador de igualdade é \"==\", um único \"=\" significa atribuição, conforme vimos em variáveis. Dois \"=\" significam comparação."
   ]
  },
  {
   "cell_type": "code",
   "execution_count": null,
   "metadata": {},
   "outputs": [],
   "source": [
    "if 'Python' != 'Javascript':\n",
    "    print('Python é diferente de Javascript')\n",
    "\n",
    "lista1 = [1,2,3,4]\n",
    "lista2 = [5,6,7,8]\n",
    "\n",
    "if len(lista1) == len(lista2):\n",
    "    print('As lista têm o mesmo tamanho')\n",
    "    \n",
    "dicionario = {'Machine':'Learning','Inteligência':'Artificial'}\n",
    "\n",
    "if 'Machine' in dicionario:\n",
    "    print(dicionario['Machine'])"
   ]
  },
  {
   "cell_type": "code",
   "execution_count": null,
   "metadata": {},
   "outputs": [],
   "source": [
    "# acho que isso ficou claro\n",
    "# imagine agora que a condição não seja atendida\n",
    "# mas que sua negação também implique em uma ação\n",
    "# como você atacaria esse problema?"
   ]
  },
  {
   "cell_type": "code",
   "execution_count": null,
   "metadata": {},
   "outputs": [],
   "source": [
    "# em alguns casos, a resposta é simples\n",
    "# basta fazermos dois if: um com a condição e outro com sua negação\n",
    "\n",
    "if 3 > 6:\n",
    "    print('Algo está errado aqui...')\n",
    "if 3 <= 6:\n",
    "    print('Ufa!')\n",
    "    \n",
    "# a negação de \"3 maior que 6\" é \"3 menor que OU IGUAL a 6\""
   ]
  },
  {
   "cell_type": "code",
   "execution_count": null,
   "metadata": {},
   "outputs": [],
   "source": [
    "# mas em alguns casos, pensar na negação não é tão simples\n",
    "# para poupar-nos desse sofrimento, existe uma estrutura que faz isso por nós\n",
    "# esse é o else\n",
    "\n",
    "if 3 > 6:\n",
    "    print('Algo está errado aqui...')\n",
    "else:\n",
    "    print('Ufa!')"
   ]
  },
  {
   "cell_type": "code",
   "execution_count": null,
   "metadata": {},
   "outputs": [],
   "source": [
    "# o else não exige nenhuma condição\n",
    "# ele sempre nega o if imediatamente anterior a este\n",
    "# se houver alguma estrutura entre estes você terá um erro\n",
    "\n",
    "num1 = 3\n",
    "num2 = 6\n",
    "\n",
    "if num1 > num2:\n",
    "    print('Algo está errado aqui...')\n",
    "    \n",
    "num1 = 5\n",
    "    \n",
    "else:\n",
    "    print('Ufa!')"
   ]
  },
  {
   "cell_type": "code",
   "execution_count": null,
   "metadata": {},
   "outputs": [],
   "source": [
    "# mas nesse caso de verificar se um número é maior que outro\n",
    "# ou em outros casos\n",
    "# a negação inclui várias possibilidades\n",
    "# nesse caso, por exemplo, num1 poderia ser menor que num2 ou poderia ser igual\n",
    "# o else inclui ambas possibilidades\n",
    "# se você quiser atacar cada uma separadamente pode usar a estrutura elif\n",
    "\n",
    "num1 = 3\n",
    "num2 = 6\n",
    "\n",
    "if num1 > num2:\n",
    "    print('{} > {}'.format(num1, num2))\n",
    "elif num1 == num2:\n",
    "    print('{} = {}'.format(num1, num2))\n",
    "elif num1 < num2:\n",
    "    print('{} < {}'.format(num1, num2))\n",
    "    \n",
    "# já o elif requer uma condição"
   ]
  },
  {
   "cell_type": "markdown",
   "metadata": {},
   "source": [
    "## Estruturas de loop e repetição"
   ]
  },
  {
   "cell_type": "markdown",
   "metadata": {},
   "source": [
    "Agora imagine que você queira realizar uma ação constantemente __enquanto__ a condição for verdadeira.\n",
    "\n",
    "Para isso, você pode utilizar as funções de loop do Python. Começando pela mais simples de todas (e com o nome mais intuitivo) o *while*"
   ]
  },
  {
   "cell_type": "code",
   "execution_count": null,
   "metadata": {},
   "outputs": [],
   "source": [
    "# imagine que você quer printar o valor de um contador enquanto ele for menor que um certo limite\n",
    "# sendo esse contador acrescido de uma unidade após cada comparação\n",
    "# o if não atenderia sua demanda pois, do contrário, você teria que escrever vários if consecutivamente\n",
    "\n",
    "# printar o valor de count enquanto count < limit:\n",
    "\n",
    "count = 0\n",
    "limit = 10\n",
    "if count < limit:\n",
    "    count += 1\n",
    "else:\n",
    "    print(count)\n",
    "    \n",
    "if count < limit:\n",
    "    count += 1\n",
    "else:\n",
    "    print(count)\n",
    "    \n",
    "# ...\n",
    "# você já entendeu onde isso vai dar e, claramente, não é o mais eficiente"
   ]
  },
  {
   "cell_type": "code",
   "execution_count": null,
   "metadata": {},
   "outputs": [],
   "source": [
    "# o while pode te ajudar com esse problema, veja como funciona a estrutura:\n",
    "\n",
    "count = 0\n",
    "limit = 10\n",
    "\n",
    "while count < limit:\n",
    "    count += 1\n",
    "print(count)\n",
    "\n",
    "# muito simples, né?"
   ]
  },
  {
   "cell_type": "code",
   "execution_count": null,
   "metadata": {},
   "outputs": [],
   "source": [
    "# o while também aceita um condicional else\n",
    "\n",
    "count = 0\n",
    "limit = 10\n",
    "\n",
    "while count < limit:\n",
    "    print('Count ainda é menor que limit')\n",
    "    count += 1\n",
    "else:\n",
    "    print(count)"
   ]
  },
  {
   "cell_type": "code",
   "execution_count": null,
   "metadata": {},
   "outputs": [],
   "source": [
    "# essa estrutura acima é chamada de while controlado por contador\n",
    "# nesse caso, a variável controlada também é usada na condição\n",
    "# mas existem outros tipos, por exemplo, while controlado por sentinela\n",
    "# nesse caso, a condição usa um valor \"sentinela\" definido para parar o loop\n",
    "\n",
    "sentinel = 'h'\n",
    "position = 0\n",
    "word = 'Python'\n",
    "letter = word[position]\n",
    "\n",
    "while letter != sentinel:\n",
    "    position += 1\n",
    "    letter = word[position]\n",
    "print('{0} está na posição {1} na palavra {2}'.format(sentinel, position, word))"
   ]
  },
  {
   "cell_type": "code",
   "execution_count": null,
   "metadata": {},
   "outputs": [],
   "source": [
    "# existem diversos outros tipos, mas não é nosso foco estudarmos isso\n",
    "# esses dois tipos já nos satisfazem bem"
   ]
  },
  {
   "cell_type": "code",
   "execution_count": null,
   "metadata": {},
   "outputs": [],
   "source": [
    "# existem alguns comandos úteis que podem ser usados em conjunto com o while\n",
    "# veja alguns destes\n",
    "\n",
    "# pass\n",
    "# este pode ser usado para pular uma etapa do while\n",
    "\n",
    "count = 0\n",
    "limit = 10\n",
    "\n",
    "while count < limit:\n",
    "    if count < 4:\n",
    "        pass\n",
    "    else:\n",
    "        print(count)\n",
    "    count += 1"
   ]
  },
  {
   "cell_type": "code",
   "execution_count": null,
   "metadata": {},
   "outputs": [],
   "source": [
    "# perceba que o pass não ignora o código fora do if\n",
    "\n",
    "count = 0\n",
    "limit = 10\n",
    "\n",
    "while count < limit:\n",
    "    if count < 4:\n",
    "        pass\n",
    "    print(count)\n",
    "    count += 1\n",
    "\n",
    "# mas existe um comando com uma utilidade parecida que o faz"
   ]
  },
  {
   "cell_type": "code",
   "execution_count": null,
   "metadata": {},
   "outputs": [],
   "source": [
    "# continue\n",
    "\n",
    "count = 0\n",
    "limit = 10\n",
    "\n",
    "while count < limit:\n",
    "    count += 1\n",
    "    if count < 4:\n",
    "        continue\n",
    "    print(count)\n",
    "    \n",
    "# perceba que o print, mesmo fora do if, foi ignorado\n",
    "# o continue literalmente pula essa etapa do while\n",
    "# se você não colocar a soma antes do continue, você iria ver que o while ficaria rodando infinitamente\n",
    "# uma vez que ele ignoraria essa ação"
   ]
  },
  {
   "cell_type": "code",
   "execution_count": null,
   "metadata": {},
   "outputs": [],
   "source": [
    "# break\n",
    "# este é um comando ainda mais radical uma vez que ele aborta o while, independente da condição superior\n",
    "\n",
    "count = 0\n",
    "limit = 10\n",
    "\n",
    "while count < limit:\n",
    "    if count == 4:\n",
    "        break\n",
    "    count += 1\n",
    "    print(count)"
   ]
  },
  {
   "cell_type": "markdown",
   "metadata": {},
   "source": [
    "Existe uma estrutura de loop que substitui e while e é mais prático algumas vezes. Este é o *for*"
   ]
  },
  {
   "cell_type": "code",
   "execution_count": null,
   "metadata": {},
   "outputs": [],
   "source": [
    "# o for é muito usado para ler listas, dicionários, sequências...\n",
    "# veja um exemplo\n",
    "\n",
    "carrinho = ['Machine Learning - Tom Mitchell', 'Deep Learning - Goodfellow et al', 'Hands-on Machine Learning - Aurelion Geron']\n",
    "\n",
    "for item in carrinho:\n",
    "    print(item)"
   ]
  },
  {
   "cell_type": "code",
   "execution_count": null,
   "metadata": {},
   "outputs": [],
   "source": [
    "# você pode ainda varrer as chaves ou valores de um dicionário\n",
    "\n",
    "carrinho = {'Machine Learning':{'autor':'Mitchell, Tom', 'publisher':'McGraw-Hill'},\n",
    "            'Deep Learning':{'autor':'Goodfellow et al', 'publisher':'MIT Press'},\n",
    "            'Hands-on Machine Learning':{'autor':'Geron, Aurelion', 'publisher':'OReilly Media'}}\n",
    "\n",
    "print('TÍTULOS DOS LIVROS')\n",
    "for title in carrinho.items():\n",
    "    print(title)\n",
    "    \n",
    "print('\\nAUTORES DOS LIVROS')\n",
    "for item in carrinho.values():\n",
    "    print(item['autor'])"
   ]
  },
  {
   "cell_type": "code",
   "execution_count": null,
   "metadata": {},
   "outputs": [],
   "source": [
    "# o for pode ser usado em combinação com o range\n",
    "# o range gera uma 'lista' de números inteiros\n",
    "# entre aspas pois o range NÃO é uma lista\n",
    "# ainda que possa ser transformado em uma\n",
    "\n",
    "print(type(range(10)))\n",
    "print(range(10))"
   ]
  },
  {
   "cell_type": "code",
   "execution_count": null,
   "metadata": {},
   "outputs": [],
   "source": [
    "# o exemplo acima gera os 10 primeiros números inteiros a partir do zero\n",
    "\n",
    "for integer in range(10):\n",
    "    print(integer)"
   ]
  },
  {
   "cell_type": "code",
   "execution_count": null,
   "metadata": {},
   "outputs": [],
   "source": [
    "# o range recebe 3 argumentos:\n",
    "# range(start, stop, step)\n",
    "# se apenas um for passado, ele considera start=0 e step=1\n",
    "# veja um caso completo\n",
    "\n",
    "for integer in range(3,20,2):\n",
    "    print(integer)"
   ]
  },
  {
   "cell_type": "code",
   "execution_count": null,
   "metadata": {},
   "outputs": [],
   "source": [
    "# o step pode, inclusive, ser negativo\n",
    "# só atente que, nesse caso, stop < start\n",
    "\n",
    "for integer in range(10,0,-1):\n",
    "    print(integer)"
   ]
  },
  {
   "cell_type": "code",
   "execution_count": null,
   "metadata": {},
   "outputs": [],
   "source": [
    "# os comandos pass, continue e break também se aplicam ao for\n",
    "# a usabilidade do for é parecida com a do while, entretanto ele é mais fácil de ser inicializado e mais prático\n",
    "# veja um exemplo de como ele pode ser mais prático\n",
    "# imagine que você queira ler os itens da lista usada no primeiro exemplo\n",
    "# veja como seria com while\n",
    "\n",
    "count = 0\n",
    "carrinho = ['Machine Learning - Tom Mitchell', 'Deep Learning - Goodfellow et al', 'Hands-on Machine Learning - Aurelion Geron']\n",
    "limit = len(carrinho)\n",
    "\n",
    "while count < limit:\n",
    "    print(carrinho[count])\n",
    "    count += 1\n",
    "    \n",
    "# esse é apenas um exemplo\n",
    "# se você se dedicar a esse caminho desafiador do machine learning, você com certeza topará em vários outros"
   ]
  },
  {
   "cell_type": "markdown",
   "metadata": {},
   "source": [
    "## Funções"
   ]
  },
  {
   "cell_type": "markdown",
   "metadata": {},
   "source": [
    "Imagine agora que você desenvolva uma estrutura de código com tudo que você já aprendeu até aqui e deseje testar a mesma estrutura com diferentes variáveis. Você sempre pode copiar e colar o código e mudar aquilo que julgar melhor, mas existe um jeito ainda mais fácil: transformar aquele seu código em uma *função*"
   ]
  },
  {
   "cell_type": "markdown",
   "metadata": {},
   "source": [
    "em Python usamos o comando *def* para criar uma função\n",
    "\n",
    "```python\n",
    "def funcao(input1, input2, input3, ...):\n",
    "    codigo_aqui\n",
    "    return output\n",
    "```"
   ]
  },
  {
   "cell_type": "code",
   "execution_count": 3,
   "metadata": {},
   "outputs": [],
   "source": [
    "# veja um exemplo\n",
    "\n",
    "def somar_dois_numeros(num1, num2):\n",
    "    soma = num1 + num2\n",
    "    return soma"
   ]
  },
  {
   "cell_type": "code",
   "execution_count": 4,
   "metadata": {},
   "outputs": [
    {
     "data": {
      "text/plain": [
       "30"
      ]
     },
     "execution_count": 4,
     "metadata": {},
     "output_type": "execute_result"
    }
   ],
   "source": [
    "somar_dois_numeros(10, 20)"
   ]
  },
  {
   "cell_type": "code",
   "execution_count": 5,
   "metadata": {},
   "outputs": [],
   "source": [
    "# você pode até mesmo usar funções dentro de funções\n",
    "\n",
    "def soma(num1, num2):\n",
    "    return num1+num2\n",
    "\n",
    "def multiplicacao(num1, num2):\n",
    "    return num1*num2\n",
    "\n",
    "def subtracao(num1, num2):\n",
    "    return num1-num2\n",
    "\n",
    "def divisao(num1, num2):\n",
    "    if num2 == 0:\n",
    "        return 'Impossível dividir um número por zero!'\n",
    "    return num1/num2\n",
    "\n",
    "def fatoracao(num1):\n",
    "    if num1 < 0:\n",
    "        return 'Impossível fatorar números negativos! E não venha com suas teorias de doutorado de que é possível!'\n",
    "    else:\n",
    "        fat = 1\n",
    "        while num1 > 1:\n",
    "            fat *= num1\n",
    "            num1 -= 1\n",
    "        return fat"
   ]
  },
  {
   "cell_type": "code",
   "execution_count": 15,
   "metadata": {},
   "outputs": [],
   "source": [
    "def calculadora(num1, symbol, num2=0):\n",
    "    \n",
    "    '''\n",
    "    Função que simula uma calculadora simples\n",
    "    - num1: input1\n",
    "    - num2: input2, opcional no caso de fatorial\n",
    "    - symbol: símbolo que representa a operação desejada\n",
    "        - '+' para soma\n",
    "        - '-' para subtração\n",
    "        - '*' para multiplicação\n",
    "        - '/' para divisão\n",
    "        - '!' para fatoração\n",
    "    '''\n",
    "    \n",
    "    if symbol == '+':\n",
    "        return soma(num1, num2=0)\n",
    "    elif symbol == '-':\n",
    "        return subtracao(num1, num2=0)\n",
    "    elif symbol == '*':\n",
    "        return multiplicacao(num1, num2=1)\n",
    "    elif symbol == '/':\n",
    "        return divisao(num1, num2=1)\n",
    "    elif symbol == '!':\n",
    "        return fatoracao(num1)\n",
    "    \n",
    "    return 'Cheque seus inputs!'"
   ]
  },
  {
   "cell_type": "code",
   "execution_count": 18,
   "metadata": {},
   "outputs": [
    {
     "name": "stdout",
     "output_type": "stream",
     "text": [
      "Help on function calculadora in module __main__:\n",
      "\n",
      "calculadora(num1, symbol, num2=0)\n",
      "    Função que simula uma calculadora simples\n",
      "    - num1: input1\n",
      "    - num2: input2, opcional no caso de fatorial\n",
      "    - symbol: símbolo que representa a operação desejada\n",
      "        - '+' para soma\n",
      "        - '-' para subtração\n",
      "        - '*' para multiplicação\n",
      "        - '/' para divisão\n",
      "        - '!' para fatoração\n",
      "\n"
     ]
    }
   ],
   "source": [
    "# percebeu aquele imenso texto vermelho entre aspas simples?\n",
    "# isso se chama doc string\n",
    "# é uma string que explica o funcionamento de sua função, a documentação\n",
    "# é uma boa prática colocá-la sempre\n",
    "\n",
    "help(calculadora)"
   ]
  },
  {
   "cell_type": "markdown",
   "metadata": {},
   "source": [
    "## Trabalhando com arquivos"
   ]
  },
  {
   "cell_type": "markdown",
   "metadata": {},
   "source": [
    "Se você é um usuário frequente de computador (imagino que você seja) você possui na sua máquina vários arquivos (files). Eles são ótimos para acessar, armazenar e manipular dados. Você vai ver agora como fazer isso com Python"
   ]
  },
  {
   "cell_type": "code",
   "execution_count": null,
   "metadata": {},
   "outputs": [],
   "source": [
    "# ler arquivos"
   ]
  }
 ],
 "metadata": {
  "kernelspec": {
   "display_name": "Python 3",
   "language": "python",
   "name": "python3"
  },
  "language_info": {
   "codemirror_mode": {
    "name": "ipython",
    "version": 3
   },
   "file_extension": ".py",
   "mimetype": "text/x-python",
   "name": "python",
   "nbconvert_exporter": "python",
   "pygments_lexer": "ipython3",
   "version": "3.8.2"
  }
 },
 "nbformat": 4,
 "nbformat_minor": 4
}
