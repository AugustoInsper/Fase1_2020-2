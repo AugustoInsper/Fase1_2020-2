{
 "cells": [
  {
   "cell_type": "markdown",
   "metadata": {},
   "source": [
    "# O QUE VAI SER FEITO NESSE NOTEBOOK\n",
    "<br>\n",
    "\n",
    "- Tutorial simples de Jupyter\n",
    "    - Escolher o kernel\n",
    "    - Inserir, excluir e fazer split de célula\n",
    "    - Rodar células\n",
    "    - Tipos de célula\n",
    "- Tipos de variáveis\n",
    "    - Ensinar função type\n",
    "    - Ensinar como converter entre tipos de variáveis\n",
    "- Operações básicas\n",
    "    - Soma\n",
    "    - Subtração\n",
    "    - Multiplicação\n",
    "    - Divisão\n",
    "    - Exponenciação\n",
    "    - Módulo\n",
    "    - Arrendodamento\n",
    "    - Valor absoluto\n",
    "- Operações com strings\n",
    "    - Concatenação\n",
    "    - Manipulação\n",
    "    - Funções básicas\n",
    "- Operações com variáveis\n",
    "    - Atribuir valores\n",
    "    - Realizar operações\n",
    "- Estruturas básicas\n",
    "    - Listas\n",
    "    - Dicionários\n",
    "    - Operações com estas estruturas\n",
    "- Condicionais\n",
    "    - If\n",
    "    - Else\n",
    "    - Elif\n",
    "- Estruturas de repetição\n",
    "    - While\n",
    "    - For\n",
    "    - Range\n",
    "- Funções\n",
    "    - Criar funções\n",
    "    - Documentar funções\n",
    "- Arquivos\n",
    "    - Ler\n",
    "    - Escrever\n",
    "- Importar módulos\n",
    "- Programação Orientada a Objetos (POO)\n",
    "    - Classes\n",
    "    - Objetos\n",
    "    - Métodos\n",
    "    - Herança\n",
    "- Stack básica de PyData\n",
    "    - Numpy\n",
    "    - Pandas\n",
    "    - Matplotlib/Seaborn"
   ]
  }
 ],
 "metadata": {
  "kernelspec": {
   "display_name": "Python 3",
   "language": "python",
   "name": "python3"
  },
  "language_info": {
   "codemirror_mode": {
    "name": "ipython",
    "version": 3
   },
   "file_extension": ".py",
   "mimetype": "text/x-python",
   "name": "python",
   "nbconvert_exporter": "python",
   "pygments_lexer": "ipython3",
   "version": "3.7.6"
  }
 },
 "nbformat": 4,
 "nbformat_minor": 4
}
